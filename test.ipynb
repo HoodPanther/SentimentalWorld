{
 "cells": [
  {
   "cell_type": "code",
   "execution_count": 57,
   "metadata": {
    "collapsed": true
   },
   "outputs": [],
   "source": [
    "from twython import TwythonStreamer\n",
    "from twitter_credentials import *\n",
    "from nltk.sentiment.vader import SentimentIntensityAnalyzer\n",
    "from time import time\n",
    "import csv"
   ]
  },
  {
   "cell_type": "code",
   "execution_count": 2,
   "metadata": {
    "collapsed": true
   },
   "outputs": [],
   "source": [
    "sid = SentimentIntensityAnalyzer()"
   ]
  },
  {
   "cell_type": "code",
   "execution_count": 63,
   "metadata": {
    "collapsed": false
   },
   "outputs": [],
   "source": [
    "class MyStreamer(TwythonStreamer):\n",
    "    \n",
    "    counter = 0\n",
    "    limit = 0\n",
    "#     data = []\n",
    "    \n",
    "    def on_success(self, data):\n",
    "        if 'text' in data:\n",
    "            if not self.limit == 0 and self.counter >= self.limit:\n",
    "                self.disconnect()\n",
    "                self.counter = 0\n",
    "                return\n",
    "            \n",
    "            if 'retweeted_status' in data: # if found tweet is a retweet, return original tweet\n",
    "                tweet = data['retweeted_status']\n",
    "            else:\n",
    "                tweet = data\n",
    "                \n",
    "#             print self.counter,': ', tweet['text']\n",
    "#             print sid.polarity_scores(tweet['text'])\n",
    "#             print\n",
    "\n",
    "#             self.data.append(sid.polarity_scores(tweet['text'])['compound'])\n",
    "            with open('data.csv', 'ab') as csvfile:\n",
    "                spamwriter = csv.writer(csvfile, delimiter=' ',\n",
    "                                        quotechar='|', quoting=csv.QUOTE_MINIMAL)\n",
    "                spamwriter.writerow([time(), sid.polarity_scores(tweet['text'])['compound']])\n",
    "                \n",
    "            self.counter += 1\n",
    "\n",
    "    def on_error(self, status_code, data):\n",
    "        print status_code\n",
    "\n",
    "        # Want to stop trying to get data because of the error?\n",
    "        # Uncomment the next line!\n",
    "#         self.disconnect()"
   ]
  },
  {
   "cell_type": "code",
   "execution_count": 64,
   "metadata": {
    "collapsed": false
   },
   "outputs": [
    {
     "name": "stdout",
     "output_type": "stream",
     "text": [
      "0 :  In class for 5 seconds\n",
      "Kicked out in 5 seconds\n",
      "Record!\n",
      "{'neg': 0.0, 'neu': 1.0, 'pos': 0.0, 'compound': 0.0}\n",
      "1 :  https://t.co/rYmrRMWvXM PLEASE SIGN AND RE-TWEET, FOR THE UK GULF WAR VETERANS https://t.co/PbcEGGQYvU THANK YOU\n",
      "{'neg': 0.212, 'neu': 0.502, 'pos': 0.286, 'compound': 0.1613}\n",
      "2 :  View from the 6😍 https://t.co/MXTfqdl8rh\n",
      "{'neg': 0.0, 'neu': 1.0, 'pos': 0.0, 'compound': 0.0}\n",
      "3 :  @PoloClubDubai enjoying ourselves but been waiting 30mins for a drink! Anybody here serving? ✌️🏇🏻🍾\n",
      "{'neg': 0.0, 'neu': 0.828, 'pos': 0.172, 'compound': 0.3595}\n",
      "4 :  It's the best when your sick after payday! You can't be out waisting your money!💸👌🏽💰\n",
      "{'neg': 0.157, 'neu': 0.617, 'pos': 0.227, 'compound': 0.3578}\n",
      "5 :  when she gives you the \"baifelecia\".. https://t.co/FAry7JEwzW\n",
      "{'neg': 0.0, 'neu': 1.0, 'pos': 0.0, 'compound': 0.0}\n",
      "6 :  spencer is me. I am spencer. https://t.co/fD6NRuAOiz\n",
      "{'neg': 0.0, 'neu': 1.0, 'pos': 0.0, 'compound': 0.0}\n",
      "7 :  I didn't mean for you to hang up,Sabine.\n",
      "Did you bring me dinner?\n",
      "{'neg': 0.0, 'neu': 1.0, 'pos': 0.0, 'compound': 0.0}\n",
      "8 :  THEY'RE PLAYING SEAN PAUL YASSS 😍😍😍\n",
      "{'neg': 0.0, 'neu': 0.664, 'pos': 0.336, 'compound': 0.368}\n",
      "9 :  Keep Voteing for @Kritika_Kamra as the #TimesMostDesirable Women 2015 on https://t.co/NmX9Do6wWJ TILL 13th March @TeamKritikaK @itimestweets\n",
      "{'neg': 0.0, 'neu': 1.0, 'pos': 0.0, 'compound': 0.0}\n",
      "10 :  Don't talk to my girlfriend.... 💯 https://t.co/SuSdIYXMiR\n",
      "{'neg': 0.0, 'neu': 1.0, 'pos': 0.0, 'compound': 0.0}\n",
      "11 :  i love frenchie dy &amp; liza soberano!!! #DolceAmorePuSo\n",
      "{'neg': 0.0, 'neu': 0.542, 'pos': 0.458, 'compound': 0.7249}\n",
      "12 :  \"These 7 behaviors might predict someone's #future #wealth.\"\n",
      "https://t.co/ikqLDXBQI6\n",
      "{'neg': 0.0, 'neu': 1.0, 'pos': 0.0, 'compound': 0.0}\n",
      "13 :  TGIF?\n",
      "{'neg': 0.0, 'neu': 0.0, 'pos': 1.0, 'compound': 0.5106}\n",
      "14 :  #FollowFriday @BumblingMike @sjfpc @RealEstateInvUn for being top engaged members in my community this week :)\n",
      "{'neg': 0.0, 'neu': 0.615, 'pos': 0.385, 'compound': 0.7579}\n",
      "15 :  2 people followed me and one person unfollowed me // automatically checked by https://t.co/yDxs1YKnHt\n",
      "{'neg': 0.0, 'neu': 1.0, 'pos': 0.0, 'compound': 0.0}\n",
      "16 :  It does not matter how many times you get knocked down, but how many times you get up. -Vince Lombardi\n",
      "{'neg': 0.052, 'neu': 0.948, 'pos': 0.0, 'compound': -0.0096}\n",
      "17 :  ~Babe\n",
      "I already miss you \n",
      "#ALDUBAngPagdalaw\n",
      "{'neg': 0.286, 'neu': 0.714, 'pos': 0.0, 'compound': -0.1531}\n",
      "18 :  Whe your eyes get hacked 😭😭😭😭 https://t.co/FLwgKWbzYH\n",
      "{'neg': 0.31, 'neu': 0.69, 'pos': 0.0, 'compound': -0.4019}\n",
      "19 :  The Israelites After Moses Took Them Across the Red Sea #MemeHistory https://t.co/hZgNT7N24l\n",
      "{'neg': 0.0, 'neu': 1.0, 'pos': 0.0, 'compound': 0.0}\n",
      "20 :  @lilyachty bitch don't ever try me https://t.co/uGbpaoYsIS\n",
      "{'neg': 0.388, 'neu': 0.612, 'pos': 0.0, 'compound': -0.5859}\n",
      "21 :  Fucking hallelujah!!!  https://t.co/9Lhxa45D9J\n",
      "{'neg': 0.0, 'neu': 0.279, 'pos': 0.721, 'compound': 0.7326}\n",
      "22 :  @bookdal this was literally made for you: https://t.co/lB7PtGKXwE\n",
      "{'neg': 0.0, 'neu': 1.0, 'pos': 0.0, 'compound': 0.0}\n",
      "23 :  Is Twitter Making Us More Productive? - FiveThirtyEight https://t.co/8JxQZDOqQQ ⚡️\n",
      "{'neg': 0.0, 'neu': 1.0, 'pos': 0.0, 'compound': 0.0}\n",
      "24 :  pls rt🍯\n",
      "#ชานยุนไร่อ้อย\n",
      "Cane5\n",
      "(https://t.co/i90j9yj8cI)\n",
      "@WinThaiFictions @ksf_ikon @iKONstoryTH \n",
      "#chanyun https://t.co/tjWgHjodAx\n",
      "{'neg': 0.0, 'neu': 0.874, 'pos': 0.126, 'compound': 0.0772}\n",
      "25 :  @1215thexiahtic I miss you Junsu ah.\n",
      "{'neg': 0.286, 'neu': 0.714, 'pos': 0.0, 'compound': -0.1531}\n",
      "26 :  Play with me please ... please...\n",
      "https://t.co/EcFp8ch1lQ https://t.co/9I3STh317y\n",
      "{'neg': 0.0, 'neu': 0.561, 'pos': 0.439, 'compound': 0.5719}\n",
      "27 :  @YinkaAJr looooool you're hilar\n",
      "{'neg': 0.0, 'neu': 1.0, 'pos': 0.0, 'compound': 0.0}\n",
      "28 :  Said no guy ever. https://t.co/ZV5NDXFHgu\n",
      "{'neg': 0.355, 'neu': 0.645, 'pos': 0.0, 'compound': -0.296}\n",
      "29 :  excited to surprise my brother on his graduation day. yay! 🎓 https://t.co/stguhwhtZD\n",
      "{'neg': 0.0, 'neu': 0.523, 'pos': 0.477, 'compound': 0.8016}\n",
      "30 :  @yogscast what about @Proasheck and @Fiona_Riches ? If that's possible, or even @YogscastLewis and @The_T ?\n",
      "{'neg': 0.0, 'neu': 1.0, 'pos': 0.0, 'compound': 0.0}\n",
      "31 :  wtf red velvet having a fansign inside a cruise ship. wow so expensive what queens.. https://t.co/u2vJOKHRCN\n",
      "{'neg': 0.194, 'neu': 0.612, 'pos': 0.194, 'compound': 0.0}\n",
      "32 :  My attitude is based on how YOU treat me.\n",
      "{'neg': 0.0, 'neu': 0.748, 'pos': 0.252, 'compound': 0.4019}\n",
      "33 :  Opening at 7:30 this morning as long as the rain holds off. #weloverain #welovecoffee #wedontloveraininourcoffee\n",
      "{'neg': 0.0, 'neu': 1.0, 'pos': 0.0, 'compound': 0.0}\n",
      "34 :  #FreebieFriday Follow and RT to #Win an iTunes gift card worth £25 End 11/03 4:30pm #FeelGood https://t.co/eDjUFudEN0\n",
      "{'neg': 0.0, 'neu': 0.758, 'pos': 0.242, 'compound': 0.5859}\n",
      "35 :  @Qatami I changed my mind. 🙂\n",
      "{'neg': 0.0, 'neu': 1.0, 'pos': 0.0, 'compound': 0.0}\n",
      "36 :  remember when https://t.co/mXZ1VQHEPG\n",
      "{'neg': 0.0, 'neu': 1.0, 'pos': 0.0, 'compound': 0.0}\n",
      "37 :  @ShelbyCarr16 Love it!\n",
      "{'neg': 0.0, 'neu': 0.308, 'pos': 0.692, 'compound': 0.6696}\n",
      "38 :  @sam_adeyemi Rev'd sir, This is an incredible but costly oversight. We withhold much and wonder why we're not making progress. #TheUnleashed\n",
      "{'neg': 0.195, 'neu': 0.805, 'pos': 0.0, 'compound': -0.5571}\n",
      "39 :  Tweet us while watching! #DolceAmorePuSo\n",
      "{'neg': 0.0, 'neu': 1.0, 'pos': 0.0, 'compound': 0.0}\n"
     ]
    }
   ],
   "source": [
    "stream = MyStreamer(twitter_credentials['API key'], twitter_credentials['API secret'],\n",
    "                    twitter_credentials['token'], twitter_credentials['token secret'])\n",
    "stream.limit = 40\n",
    "# stream.statuses.filter(track='cheese', language='en')\n",
    "stream.statuses.sample(language='en')"
   ]
  },
  {
   "cell_type": "code",
   "execution_count": 38,
   "metadata": {
    "collapsed": false
   },
   "outputs": [],
   "source": [
    "# remove zeros\n",
    "# [value for value in MyStreamer.data if not value == 0]"
   ]
  },
  {
   "cell_type": "code",
   "execution_count": 49,
   "metadata": {
    "collapsed": false
   },
   "outputs": [
    {
     "data": {
      "image/png": "[encoded data removed]",
      "text/plain": [
       "<matplotlib.figure.Figure at 0x7fdb428d0f90>"
      ]
     },
     "metadata": {},
     "output_type": "display_data"
    }
   ],
   "source": [
    "plt.hist(MyStreamer.data, 100)\n",
    "plt.show()"
   ]
  },
  {
   "cell_type": "code",
   "execution_count": 50,
   "metadata": {
    "collapsed": false
   },
   "outputs": [
    {
     "name": "stdout",
     "output_type": "stream",
     "text": [
      "0.056565\n",
      "0.273375110928\n"
     ]
    }
   ],
   "source": [
    "print np.mean(MyStreamer.data)\n",
    "print np.std(MyStreamer.data)"
   ]
  }
 ],
 "metadata": {
  "kernelspec": {
   "display_name": "Python 2",
   "language": "python",
   "name": "python2"
  },
  "language_info": {
   "codemirror_mode": {
    "name": "ipython",
    "version": 2
   },
   "file_extension": ".py",
   "mimetype": "text/x-python",
   "name": "python",
   "nbconvert_exporter": "python",
   "pygments_lexer": "ipython2",
   "version": "2.7.11"
  }
 },
 "nbformat": 4,
 "nbformat_minor": 0
}
