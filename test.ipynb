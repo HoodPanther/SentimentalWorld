{
 "cells": [
  {
   "cell_type": "code",
   "execution_count": 1,
   "metadata": {
    "collapsed": true
   },
   "outputs": [],
   "source": [
    "from twython import TwythonStreamer\n",
    "from nltk.sentiment.vader import SentimentIntensityAnalyzer"
   ]
  },
  {
   "cell_type": "code",
   "execution_count": 2,
   "metadata": {
    "collapsed": true
   },
   "outputs": [],
   "source": [
    "sid = SentimentIntensityAnalyzer()"
   ]
  },
  {
   "cell_type": "code",
   "execution_count": 4,
   "metadata": {
    "collapsed": false
   },
   "outputs": [],
   "source": [
    "class MyStreamer(TwythonStreamer):\n",
    "    \n",
    "    counter = 0\n",
    "    limit = 0\n",
    "    data = []\n",
    "    \n",
    "    def on_success(self, data):\n",
    "        if 'text' in data:\n",
    "            if not self.limit == 0 and self.counter >= self.limit:\n",
    "                self.disconnect()\n",
    "                self.counter = 0\n",
    "                return\n",
    "            \n",
    "            if 'retweeted_status' in data: # if found tweet is a retweet, return original tweet\n",
    "                tweet = data['retweeted_status']\n",
    "            else:\n",
    "                tweet = data\n",
    "                \n",
    "#             print self.counter,': ', clean_text\n",
    "#             print sid.polarity_scores(clean_text)\n",
    "#             print\n",
    "\n",
    "            self.data.append(sid.polarity_scores(tweet['text'])['compound'])\n",
    "                \n",
    "            self.counter += 1\n",
    "\n",
    "    def on_error(self, status_code, data):\n",
    "        print status_code\n",
    "\n",
    "        # Want to stop trying to get data because of the error?\n",
    "        # Uncomment the next line!\n",
    "#         self.disconnect()"
   ]
  },
  {
   "cell_type": "code",
   "execution_count": 5,
   "metadata": {
    "collapsed": true
   },
   "outputs": [],
   "source": [
    "import numpy as np\n",
    "import matplotlib.pyplot as plt\n",
    "%matplotlib inline"
   ]
  },
  {
   "cell_type": "code",
   "execution_count": 12,
   "metadata": {
    "collapsed": true
   },
   "outputs": [],
   "source": [
    "from twitter_credentials import *"
   ]
  },
  {
   "cell_type": "code",
   "execution_count": 9,
   "metadata": {
    "collapsed": false
   },
   "outputs": [],
   "source": [
    "stream = MyStreamer(twitter, 'fEcXEwem8x24PkqqIYkVw5Jlh9jS6b2sLra7qAZg0kjbYMHoy6',\n",
    "                    '231604654-w8KViHj9SUTTOHbzVzlxXJYIwd2PPDg48MHrPK9N', 'uCwbZ4goceP2nOhGpYOdSEdrKWaQX8J5uLHlvKWjFT4bl')\n",
    "stream.limit = 1000\n",
    "# stream.statuses.filter(track='obama', language='en')\n",
    "stream.statuses.sample(language='en')"
   ]
  },
  {
   "cell_type": "code",
   "execution_count": 10,
   "metadata": {
    "collapsed": false
   },
   "outputs": [
    {
     "data": {
      "image/png": "[encoded data removed]",
      "text/plain": [
       "<matplotlib.figure.Figure at 0x7fdb434de210>"
      ]
     },
     "metadata": {},
     "output_type": "display_data"
    }
   ],
   "source": [
    "plt.hist(MyStreamer.data, 100)\n",
    "plt.show()"
   ]
  },
  {
   "cell_type": "code",
   "execution_count": 11,
   "metadata": {
    "collapsed": false
   },
   "outputs": [
    {
     "name": "stdout",
     "output_type": "stream",
     "text": [
      "0.130394181818\n",
      "0.402098771564\n"
     ]
    }
   ],
   "source": [
    "print np.mean(MyStreamer.data)\n",
    "print np.std(MyStreamer.data)"
   ]
  }
 ],
 "metadata": {
  "kernelspec": {
   "display_name": "Python 2",
   "language": "python",
   "name": "python2"
  },
  "language_info": {
   "codemirror_mode": {
    "name": "ipython",
    "version": 2
   },
   "file_extension": ".py",
   "mimetype": "text/x-python",
   "name": "python",
   "nbconvert_exporter": "python",
   "pygments_lexer": "ipython2",
   "version": "2.7.11"
  }
 },
 "nbformat": 4,
 "nbformat_minor": 0
}
