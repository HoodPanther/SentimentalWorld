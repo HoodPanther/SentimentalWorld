{
 "cells": [
  {
   "cell_type": "code",
   "execution_count": 1,
   "metadata": {
    "collapsed": false
   },
   "outputs": [],
   "source": [
    "from twitter_credentials import *\n",
    "from nltk.sentiment.vader import SentimentIntensityAnalyzer\n",
    "from time import time\n",
    "import csv\n",
    "import os"
   ]
  },
  {
   "cell_type": "code",
   "execution_count": 2,
   "metadata": {
    "collapsed": false
   },
   "outputs": [],
   "source": [
    "sid = SentimentIntensityAnalyzer()"
   ]
  },
  {
   "cell_type": "markdown",
   "metadata": {},
   "source": [
    "# tweepy"
   ]
  },
  {
   "cell_type": "code",
   "execution_count": 3,
   "metadata": {
    "collapsed": false
   },
   "outputs": [],
   "source": [
    "import tweepy"
   ]
  },
  {
   "cell_type": "code",
   "execution_count": 4,
   "metadata": {
    "collapsed": false
   },
   "outputs": [],
   "source": [
    "auth = tweepy.OAuthHandler(twitter_credentials['API key'], twitter_credentials['API secret'])\n",
    "auth.set_access_token(twitter_credentials['token'], twitter_credentials['token secret'])\n",
    "\n",
    "api = tweepy.API(auth)"
   ]
  },
  {
   "cell_type": "code",
   "execution_count": 19,
   "metadata": {
    "collapsed": false
   },
   "outputs": [],
   "source": [
    "#override tweepy.StreamListener to add logic to on_status\n",
    "class MyStreamListener(tweepy.StreamListener):\n",
    "    \n",
    "    limit = 0\n",
    "    counter = 0\n",
    "    data_file = 'data.csv'\n",
    "    data_limit = 1e9\n",
    "\n",
    "    def on_status(self, tweet):\n",
    "        \n",
    "        if hasattr(tweet, 'text'):\n",
    "\n",
    "            if hasattr(tweet, 'retweeted_status'):\n",
    "                tweet = tweet.retweeted_status\n",
    "            \n",
    "            lower = tweet.text.lower() # convert to lower case\n",
    "            \n",
    "            if 'sanders' in lower:\n",
    "                fn = 'data_sanders.csv'\n",
    "            elif 'clinton' in lower:\n",
    "                fn = 'data_clinton.csv'\n",
    "            elif 'trump' in lower:\n",
    "                fn = 'data_trump.csv'\n",
    "            elif 'cruz' in lower:\n",
    "                fn = 'data_cruz.csv'\n",
    "            else:\n",
    "                fn = 'data_unknown.csv'\n",
    "\n",
    "            with open(fn, 'ab') as csvfile:\n",
    "                    spamwriter = csv.writer(csvfile, delimiter=' ',\n",
    "                                            quotechar='|', quoting=csv.QUOTE_MINIMAL)\n",
    "                    spamwriter.writerow([time(), sid.polarity_scores(tweet.text)['compound']])\n",
    "\n",
    "            self.counter += 1\n",
    "            if self.limit and self.counter >= self.limit:\n",
    "                self.counter = 0\n",
    "                return False\n",
    "#             file_size = os.path.getsize(self.data_file)\n",
    "#             if file_size > self.data_limit:\n",
    "#                 return False\n",
    "        \n",
    "    def on_error(self, status_code):\n",
    "        print status_code\n",
    "        if status_code == 420:\n",
    "            #returning False in on_data disconnects the stream\n",
    "            return False"
   ]
  },
  {
   "cell_type": "code",
   "execution_count": 26,
   "metadata": {
    "collapsed": false
   },
   "outputs": [],
   "source": [
    "myStreamListener = MyStreamListener()\n",
    "myStreamListener.data_file = 'data.csv'\n",
    "myStream = tweepy.Stream(auth = api.auth, listener=myStreamListener)\n",
    "myStream.timeout = 60*5"
   ]
  },
  {
   "cell_type": "code",
   "execution_count": 22,
   "metadata": {
    "collapsed": true
   },
   "outputs": [],
   "source": [
    "myStream.disconnect()"
   ]
  },
  {
   "cell_type": "code",
   "execution_count": null,
   "metadata": {
    "collapsed": true
   },
   "outputs": [],
   "source": [
    "myStream.sample(languages=['en'])"
   ]
  },
  {
   "cell_type": "code",
   "execution_count": null,
   "metadata": {
    "collapsed": true
   },
   "outputs": [],
   "source": [
    "myStream.filter(languages=['en'], locations=[-124.848974, 24.396308, -66.885444, 49.384358], stall_warnings=True)"
   ]
  },
  {
   "cell_type": "code",
   "execution_count": null,
   "metadata": {
    "collapsed": false
   },
   "outputs": [],
   "source": [
    "myStream.filter(track=['Sanders, Clinton, Trump, Ted Cruz'], languages=['en'])"
   ]
  }
 ],
 "metadata": {
  "kernelspec": {
   "display_name": "Python 2",
   "language": "python",
   "name": "python2"
  },
  "language_info": {
   "codemirror_mode": {
    "name": "ipython",
    "version": 2
   },
   "file_extension": ".py",
   "mimetype": "text/x-python",
   "name": "python",
   "nbconvert_exporter": "python",
   "pygments_lexer": "ipython2",
   "version": "2.7.11"
  }
 },
 "nbformat": 4,
 "nbformat_minor": 0
}
