{
 "cells": [
  {
   "cell_type": "code",
   "execution_count": 1,
   "metadata": {
    "collapsed": true
   },
   "outputs": [],
   "source": [
    "from twython import TwythonStreamer\n",
    "from nltk.sentiment.vader import SentimentIntensityAnalyzer"
   ]
  },
  {
   "cell_type": "code",
   "execution_count": 2,
   "metadata": {
    "collapsed": true
   },
   "outputs": [],
   "source": [
    "sid = SentimentIntensityAnalyzer()"
   ]
  },
  {
   "cell_type": "code",
   "execution_count": 4,
   "metadata": {
    "collapsed": false
   },
   "outputs": [],
   "source": [
    "class MyStreamer(TwythonStreamer):\n",
    "    \n",
    "    counter = 0\n",
    "    limit = 0\n",
    "    data = []\n",
    "    \n",
    "    def on_success(self, data):\n",
    "        if 'text' in data:\n",
    "            if not self.limit == 0 and self.counter >= self.limit:\n",
    "                self.disconnect()\n",
    "                self.counter = 0\n",
    "                return\n",
    "            \n",
    "            if 'retweeted_status' in data: # if found tweet is a retweet, return original tweet\n",
    "                tweet = data['retweeted_status']\n",
    "            else:\n",
    "                tweet = data\n",
    "                \n",
    "#             print self.counter,': ', clean_text\n",
    "#             print sid.polarity_scores(clean_text)\n",
    "#             print\n",
    "\n",
    "            self.data.append(sid.polarity_scores(tweet['text'])['compound'])\n",
    "                \n",
    "            self.counter += 1\n",
    "\n",
    "    def on_error(self, status_code, data):\n",
    "        print status_code\n",
    "\n",
    "        # Want to stop trying to get data because of the error?\n",
    "        # Uncomment the next line!\n",
    "#         self.disconnect()"
   ]
  },
  {
   "cell_type": "code",
   "execution_count": 5,
   "metadata": {
    "collapsed": true
   },
   "outputs": [],
   "source": [
    "import numpy as np\n",
    "import matplotlib.pyplot as plt\n",
    "%matplotlib inline"
   ]
  },
  {
   "cell_type": "code",
   "execution_count": 12,
   "metadata": {
    "collapsed": true
   },
   "outputs": [],
   "source": [
    "from twitter_credentials import *"
   ]
  },
  {
   "cell_type": "code",
   "execution_count": 19,
   "metadata": {
    "collapsed": false
   },
   "outputs": [
    {
     "name": "stdout",
     "output_type": "stream",
     "text": [
      "CPU times: user 4min 43s, sys: 352 ms, total: 4min 44s\n",
      "Wall time: 8min 12s\n"
     ]
    }
   ],
   "source": [
    "%%time\n",
    "stream = MyStreamer(twitter_credentials['API key'], twitter_credentials['API secret'],\n",
    "                    twitter_credentials['token'], twitter_credentials['token secret'])\n",
    "stream.limit = 5000\n",
    "# stream.statuses.filter(track='obama', language='en')\n",
    "stream.statuses.sample(language='en')"
   ]
  },
  {
   "cell_type": "code",
   "execution_count": 38,
   "metadata": {
    "collapsed": false
   },
   "outputs": [],
   "source": [
    "# remove zeros\n",
    "# [value for value in MyStreamer.data if not value == 0]"
   ]
  },
  {
   "cell_type": "code",
   "execution_count": 39,
   "metadata": {
    "collapsed": false
   },
   "outputs": [
    {
     "data": {
      "image/png": "[encoded data removed]",
      "text/plain": [
       "<matplotlib.figure.Figure at 0x7fdb434a6150>"
      ]
     },
     "metadata": {},
     "output_type": "display_data"
    }
   ],
   "source": [
    "plt.hist(MyStreamer.data, 100)\n",
    "plt.show()"
   ]
  },
  {
   "cell_type": "code",
   "execution_count": 40,
   "metadata": {
    "collapsed": false
   },
   "outputs": [
    {
     "name": "stdout",
     "output_type": "stream",
     "text": [
      "0.13376423756\n",
      "0.400843345561\n"
     ]
    }
   ],
   "source": [
    "print np.mean(MyStreamer.data)\n",
    "print np.std(MyStreamer.data)"
   ]
  }
 ],
 "metadata": {
  "kernelspec": {
   "display_name": "Python 2",
   "language": "python",
   "name": "python2"
  },
  "language_info": {
   "codemirror_mode": {
    "name": "ipython",
    "version": 2
   },
   "file_extension": ".py",
   "mimetype": "text/x-python",
   "name": "python",
   "nbconvert_exporter": "python",
   "pygments_lexer": "ipython2",
   "version": "2.7.11"
  }
 },
 "nbformat": 4,
 "nbformat_minor": 0
}
