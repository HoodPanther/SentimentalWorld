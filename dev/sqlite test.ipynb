{
 "cells": [
  {
   "cell_type": "code",
   "execution_count": 1,
   "metadata": {
    "collapsed": true
   },
   "outputs": [],
   "source": [
    "import numpy as np\n",
    "from __future__ import division\n",
    "import sqlite3"
   ]
  },
  {
   "cell_type": "code",
   "execution_count": 2,
   "metadata": {
    "collapsed": true
   },
   "outputs": [],
   "source": [
    "sqlitefile = 'data.sqlite'"
   ]
  },
  {
   "cell_type": "markdown",
   "metadata": {},
   "source": [
    "# Create database"
   ]
  },
  {
   "cell_type": "code",
   "execution_count": null,
   "metadata": {
    "collapsed": true
   },
   "outputs": [],
   "source": [
    "conn = sqlite3.connect(sqlitefile)\n",
    "c = conn.cursor()\n",
    "c.execute('''CREATE TABLE sanders\n",
    "       (datetime       REAL,\n",
    "       sentiment      REAL,\n",
    "       tweetID        TEXT);''')\n",
    "c.execute('''CREATE TABLE trump\n",
    "       (datetime       REAL,\n",
    "       sentiment      REAL,\n",
    "       tweetID        TEXT);''')\n",
    "c.execute('''CREATE TABLE clinton\n",
    "       (datetime       REAL,\n",
    "       sentiment      REAL,\n",
    "       tweetID        TEXT);''')\n",
    "c.execute('''CREATE TABLE cruz\n",
    "       (datetime       REAL,\n",
    "       sentiment      REAL,\n",
    "       tweetID        TEXT);''')\n",
    "conn.commit()\n",
    "conn.close()"
   ]
  },
  {
   "cell_type": "markdown",
   "metadata": {},
   "source": [
    "# Insert data"
   ]
  },
  {
   "cell_type": "code",
   "execution_count": null,
   "metadata": {
    "collapsed": true
   },
   "outputs": [],
   "source": [
    "import pandas as pd"
   ]
  },
  {
   "cell_type": "code",
   "execution_count": null,
   "metadata": {
    "collapsed": true
   },
   "outputs": [],
   "source": [
    "candidates = ['sanders', 'trump', 'clinton', 'cruz']\n",
    "for candidate in candidates:\n",
    "    data = pd.read_csv('data_'+candidate+'_00000.csv', header=None,\n",
    "                   names=['date', 'sentiment', 'tweetID'],\n",
    "                   dtype={'date': np.float64, 'sentiment': np.float64, 'tweetID': str})\n",
    "    conn = sqlite3.connect(sqlitefile)\n",
    "    c = conn.cursor()\n",
    "    c.executemany('''INSERT INTO '''+candidate+'''(datetime, sentiment, tweetID) VALUES (?, ?, ?)''', np.array(data))\n",
    "    conn.commit()\n",
    "    conn.close()"
   ]
  },
  {
   "cell_type": "markdown",
   "metadata": {},
   "source": [
    "# Create downsampled database"
   ]
  },
  {
   "cell_type": "code",
   "execution_count": 5,
   "metadata": {
    "collapsed": true
   },
   "outputs": [],
   "source": [
    "sqlitefile_downsampled = 'data_downsampled.sqlite'"
   ]
  },
  {
   "cell_type": "code",
   "execution_count": null,
   "metadata": {
    "collapsed": true
   },
   "outputs": [],
   "source": [
    "conn = sqlite3.connect(sqlitefile_downsampled)\n",
    "c = conn.cursor()\n",
    "c.execute('''CREATE TABLE sanders_downsampled\n",
    "       (datetime       REAL,\n",
    "       sentiment      REAL,\n",
    "       tweet_count        INTEGER);''')\n",
    "c.execute('''CREATE TABLE trump_downsampled\n",
    "       (datetime       REAL,\n",
    "       sentiment      REAL,\n",
    "       tweet_count        INTEGER);''')\n",
    "c.execute('''CREATE TABLE clinton_downsampled\n",
    "       (datetime       REAL,\n",
    "       sentiment      REAL,\n",
    "       tweet_count        INTEGER);''')\n",
    "c.execute('''CREATE TABLE cruz_downsampled\n",
    "       (datetime       REAL,\n",
    "       sentiment      REAL,\n",
    "       tweet_count        INTEGER);''')\n",
    "conn.commit()\n",
    "conn.close()"
   ]
  },
  {
   "cell_type": "markdown",
   "metadata": {},
   "source": [
    "<hr>\n",
    "# Downsample"
   ]
  },
  {
   "cell_type": "code",
   "execution_count": 12,
   "metadata": {
    "collapsed": false
   },
   "outputs": [],
   "source": [
    "bin_size = 30 * 60 # 30 minutes, in seconds\n",
    "min_tweets = 100 # minimum number of tweets for a valid entry\n",
    "\n",
    "candidates = ['sanders', 'trump', 'clinton', 'cruz']\n",
    "\n",
    "for candidate in candidates:\n",
    "    \n",
    "    conn = sqlite3.connect(sqlitefile_downsampled)\n",
    "    c = conn.cursor()\n",
    "    c.execute('''DELETE FROM '''+candidate+'''_downsampled WHERE 1=1''')\n",
    "    conn.commit()\n",
    "    conn.close()\n",
    "\n",
    "    conn = sqlite3.connect(sqlitefile)\n",
    "    c = conn.cursor()\n",
    "    c.execute('''SELECT * FROM '''+candidate+''';''')\n",
    "    all_rows = c.fetchall()\n",
    "    prev_time = None\n",
    "    sentiments = []\n",
    "    tweet_count = 0\n",
    "    for row in all_rows:\n",
    "        sentiments.append(row[1])\n",
    "        tweet_count += 1\n",
    "        if not prev_time:\n",
    "            prev_time = row[0]\n",
    "            continue\n",
    "        time = row[0]\n",
    "        if time - prev_time > bin_size:\n",
    "            # we've passed bin_size, wrap it up\n",
    "            if time - prev_time > bin_size*2:\n",
    "                # more than 2 bin_sizes have passed, we're missing data. Add an empty entry.\n",
    "                conn2 = sqlite3.connect(sqlitefile_downsampled)\n",
    "                c2 = conn2.cursor()\n",
    "                c2.execute('''INSERT INTO '''+candidate+'''_downsampled(datetime, sentiment, tweet_count) VALUES (?,?,?);''',\n",
    "                         (time - (time-prev_time)/2, None, tweet_count))\n",
    "                conn2.commit()\n",
    "                conn2.close()\n",
    "                prev_time = time\n",
    "                sentiments = []\n",
    "                tweet_count = 0\n",
    "            elif tweet_count >= min_tweets: # check if we have a reasonable number of tweets to get a mean sentiment from\n",
    "                conn2 = sqlite3.connect(sqlitefile_downsampled)\n",
    "                c2 = conn2.cursor()\n",
    "                c2.execute('''INSERT INTO '''+candidate+'''_downsampled(datetime, sentiment, tweet_count) VALUES (?,?,?);''',\n",
    "                         (time - (time-prev_time)/2, np.mean(sentiments), tweet_count))\n",
    "                conn2.commit()\n",
    "                conn2.close()\n",
    "                prev_time = time\n",
    "                sentiments = []\n",
    "                tweet_count = 0\n",
    "    conn.close()"
   ]
  },
  {
   "cell_type": "code",
   "execution_count": null,
   "metadata": {
    "collapsed": true
   },
   "outputs": [],
   "source": [
    "# pseudocode\n",
    "if not row:\n",
    "    # table is empty\n",
    "    # start from the top\n",
    "    \n",
    "    \n",
    "    \n",
    "else:\n",
    "    if current_time - last_data_entry.datetime > bin_size:\n",
    "        if current_time - last_data_entry.datetime > bin_size*2:\n",
    "            # we're missing data, add an empty entry\n",
    "            tweet_count = number_of_rows\n",
    "            c.execute('''INSERT INTO sanders_downsampled(datetime, sentiment, tweet_count) VALUES (?,?,?)''',\n",
    "                     (now-time_diff*0.5, None, tweet_count))\n",
    "        else:\n",
    "            # add entry\n",
    "            mean_sentiment = np.mean(sentiments)\n",
    "            tweet_count = number_of_rows\n",
    "            c.execute('''INSERT INTO sanders_downsampled(datetime, sentiment, tweet_count) VALUES (?,?,?)''',\n",
    "                     (now-time_diff*0.5, mean_sentiment, tweet_count))"
   ]
  }
 ],
 "metadata": {
  "kernelspec": {
   "display_name": "Python 2",
   "language": "python",
   "name": "python2"
  },
  "language_info": {
   "codemirror_mode": {
    "name": "ipython",
    "version": 2
   },
   "file_extension": ".py",
   "mimetype": "text/x-python",
   "name": "python",
   "nbconvert_exporter": "python",
   "pygments_lexer": "ipython2",
   "version": "2.7.11"
  }
 },
 "nbformat": 4,
 "nbformat_minor": 0
}
