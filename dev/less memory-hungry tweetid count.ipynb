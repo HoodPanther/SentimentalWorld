{
 "cells": [
  {
   "cell_type": "code",
   "execution_count": 1,
   "metadata": {
    "collapsed": true
   },
   "outputs": [],
   "source": [
    "import numpy as np\n",
    "import sqlite3, sys\n",
    "from __future__ import division"
   ]
  },
  {
   "cell_type": "code",
   "execution_count": 2,
   "metadata": {
    "collapsed": true
   },
   "outputs": [],
   "source": [
    "candidate = 'trump'\n",
    "p = [1471185920-60*60*1,1471185920]\n",
    "db = '../data backup/data_backup.sqlite.old'"
   ]
  },
  {
   "cell_type": "code",
   "execution_count": 3,
   "metadata": {
    "collapsed": true
   },
   "outputs": [],
   "source": [
    "# get most common tweetID during the peak\n",
    "conn = sqlite3.connect(db)\n",
    "c = conn.cursor()\n",
    "c.execute('''\n",
    "SELECT datetime, tweetID FROM '''+candidate+'''\n",
    "WHERE datetime BETWEEN '''+str('%f' % p[0])+'''\n",
    "AND '''+str('%f' % p[1])+''';\n",
    "''')\n",
    "rows = c.fetchall()\n",
    "conn.close()"
   ]
  },
  {
   "cell_type": "code",
   "execution_count": 4,
   "metadata": {
    "collapsed": false
   },
   "outputs": [
    {
     "data": {
      "text/plain": [
       "406504"
      ]
     },
     "execution_count": 4,
     "metadata": {},
     "output_type": "execute_result"
    }
   ],
   "source": [
    "sys.getsizeof(rows)"
   ]
  },
  {
   "cell_type": "markdown",
   "metadata": {},
   "source": [
    "<hr>"
   ]
  },
  {
   "cell_type": "code",
   "execution_count": 3,
   "metadata": {
    "collapsed": true
   },
   "outputs": [],
   "source": [
    "# get most common tweetID during the peak\n",
    "conn = sqlite3.connect(db)\n",
    "c = conn.cursor()\n",
    "c.execute('''\n",
    "SELECT tweetid, COUNT(tweetid) FROM '''+candidate+'''\n",
    "WHERE datetime BETWEEN '''+str('%f' % p[0])+'''\n",
    "AND '''+str('%f' % p[1])+''' GROUP BY tweetid;\n",
    "''')\n",
    "rows2 = c.fetchall()\n",
    "conn.close()"
   ]
  },
  {
   "cell_type": "code",
   "execution_count": 4,
   "metadata": {
    "collapsed": false
   },
   "outputs": [
    {
     "data": {
      "text/plain": [
       "200328"
      ]
     },
     "execution_count": 4,
     "metadata": {},
     "output_type": "execute_result"
    }
   ],
   "source": [
    "sys.getsizeof(rows2)"
   ]
  },
  {
   "cell_type": "code",
   "execution_count": 13,
   "metadata": {
    "collapsed": false
   },
   "outputs": [
    {
     "name": "stdout",
     "output_type": "stream",
     "text": [
      "764479599757631488 234\n",
      "CPU times: user 8 ms, sys: 0 ns, total: 8 ms\n",
      "Wall time: 6.66 ms\n"
     ]
    }
   ],
   "source": [
    "%%time\n",
    "m = 0\n",
    "top = None\n",
    "for r in rows2:\n",
    "    if r[1] > m:\n",
    "        m = r[1]\n",
    "        top = r[0]\n",
    "print top, m"
   ]
  },
  {
   "cell_type": "markdown",
   "metadata": {},
   "source": [
    "<hr>"
   ]
  },
  {
   "cell_type": "code",
   "execution_count": 14,
   "metadata": {
    "collapsed": false
   },
   "outputs": [
    {
     "name": "stdout",
     "output_type": "stream",
     "text": [
      "(u'764479599757631488', 234)\n"
     ]
    }
   ],
   "source": [
    "# get most common tweetID during the peak\n",
    "conn = sqlite3.connect(db)\n",
    "c = conn.cursor()\n",
    "c.execute('''\n",
    "SELECT tweetid, COUNT(tweetid) FROM '''+candidate+'''\n",
    "WHERE datetime BETWEEN '''+str('%f' % p[0])+'''\n",
    "AND '''+str('%f' % p[1])+''' GROUP BY tweetid ORDER BY COUNT(tweetid) DESC LIMIT 1;\n",
    "''')\n",
    "top2 = c.fetchone()\n",
    "conn.close()\n",
    "print top2"
   ]
  },
  {
   "cell_type": "code",
   "execution_count": 15,
   "metadata": {
    "collapsed": false
   },
   "outputs": [
    {
     "data": {
      "text/plain": [
       "u'764479599757631488'"
      ]
     },
     "execution_count": 15,
     "metadata": {},
     "output_type": "execute_result"
    }
   ],
   "source": [
    "top2[0]"
   ]
  }
 ],
 "metadata": {
  "kernelspec": {
   "display_name": "Python 2",
   "language": "python",
   "name": "python2"
  },
  "language_info": {
   "codemirror_mode": {
    "name": "ipython",
    "version": 2
   },
   "file_extension": ".py",
   "mimetype": "text/x-python",
   "name": "python",
   "nbconvert_exporter": "python",
   "pygments_lexer": "ipython2",
   "version": "2.7.11"
  }
 },
 "nbformat": 4,
 "nbformat_minor": 0
}
