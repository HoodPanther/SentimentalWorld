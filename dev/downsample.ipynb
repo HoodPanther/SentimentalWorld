{
 "cells": [
  {
   "cell_type": "code",
   "execution_count": 1,
   "metadata": {
    "collapsed": true
   },
   "outputs": [],
   "source": [
    "import numpy as np\n",
    "import sched, time, csv, os, StringIO"
   ]
  },
  {
   "cell_type": "code",
   "execution_count": 4,
   "metadata": {
    "collapsed": false
   },
   "outputs": [],
   "source": [
    "def downsample(files, outfile, R):\n",
    "    def csv_string(data):\n",
    "        si = StringIO.StringIO()\n",
    "        cw = csv.writer(si, delimiter=',')\n",
    "        cw.writerow(data)\n",
    "        return str(si.getvalue())\n",
    "\n",
    "    def check(output, o):\n",
    "        output = [str(x) for x in output]\n",
    "        rewind = o.tell()\n",
    "        outline = o.readline()\n",
    "        if not outline:\n",
    "            o.seek(rewind)\n",
    "            o.write(csv_string(output))\n",
    "            print str(o.tell())+' new line added'\n",
    "        else:\n",
    "            outrow = list(csv.reader(StringIO.StringIO(outline), delimiter=','))[0]\n",
    "            if not outrow == output:\n",
    "                o.seek(rewind)\n",
    "                o.write(csv_string(output))\n",
    "                print str(o.tell())+' line overwritten:'\n",
    "                print 'old: '+str(outrow)\n",
    "                print 'new: '+str(outline)\n",
    "                print\n",
    "\n",
    "        # with open(outfile, 'wb') as f:\n",
    "        # \tspamwriter = csv.writer(f, delimiter=',',\n",
    "        # \t\t\t\t\t\t\tquotechar='|', quoting=csv.QUOTE_MINIMAL)\n",
    "        # \tspamwriter.writerow(['date','mood','tweets'])\n",
    "        for fn in files:\n",
    "            prev_time = 0\n",
    "            mood = []\n",
    "            counter = 0\n",
    "            # with open(fn, 'rb') as f:\n",
    "            # \tspamreader = csv.reader(f, delimiter=',', quotechar='|')\n",
    "            # \tfor row in spamreader:\n",
    "            o = file(outfile, 'r+')\n",
    "            if not o.readline() == 'date,mood,tweets':\n",
    "                o.seek(0)\n",
    "                o.write(csv_string(['date','mood','tweets']))\n",
    "            f = file(fn, 'r')\n",
    "            f.seek(0,2)\n",
    "            lastline = f.tell()\n",
    "            f.seek(0)\n",
    "            tweets = 0\n",
    "            min_tweets = 100\n",
    "            while f.tell() < lastline:\n",
    "                where = f.tell()\n",
    "                line = f.readline()\n",
    "                if not line:\n",
    "                    time.sleep(0.1)\n",
    "                    f.seek(where)\n",
    "                else:\n",
    "                    tweets += 1\n",
    "                    a = StringIO.StringIO(line)\n",
    "                    reader = csv.reader(a, delimiter=',')\n",
    "                    row = list(reader)[0]\n",
    "                    mood.append(float(row[1]))\n",
    "                    if prev_time == 0:\n",
    "                        prev_time = float(row[0])\n",
    "                        continue\n",
    "                    time_diff = float(row[0]) - prev_time\n",
    "                    if time_diff > R:\n",
    "                        if int(time_diff / R) > 1: # if two bins or more passed since last entry, we're missing data\n",
    "                            output = [float(row[0])-(time_diff*0.5), None, tweets]\n",
    "                            check(output, o)\n",
    "                        # \t# with open(outfile, 'ab') as outf:\n",
    "                        # \t# \tspamwriter = csv.writer(outf, delimiter=',',\n",
    "                        # \t# \t\t\t\t\t\t\tquotechar='|', quoting=csv.QUOTE_MINIMAL)\n",
    "                        # \t# \tspamwriter.writerow([float(row[0])-(time_diff*0.5), None, tweets])\n",
    "                        if time_diff > R and tweets > min_tweets:\n",
    "                            output = [float(row[0])-(R*0.5), np.mean(mood), tweets]\n",
    "                            check(output, o)\n",
    "                            # with open(outfile, 'ab') as outf:\n",
    "                            # \tspamwriter = csv.writer(outf, delimiter=',',\n",
    "                            # \t\t\t\t\t\t\tquotechar='|', quoting=csv.QUOTE_MINIMAL)\n",
    "                            # \tspamwriter.writerow([float(row[0])-(R*0.5), np.mean(mood), tweets])\n",
    "                        mood = []\n",
    "                        prev_time = float(row[0])\n",
    "                        tweets = 0\n",
    "            o.close()\n",
    "            f.close()\n",
    "    \n",
    "def do_something(R):\n",
    "    files = os.listdir('.')\n",
    "    files = [fn for fn in files if fn.endswith('.csv')]\n",
    "\n",
    "    files_sanders = sorted([fn for fn in files if 'data_sanders' in fn and not 'downsampled' in fn])\n",
    "    files_trump = sorted([fn for fn in files if 'data_trump' in fn and not 'downsampled' in fn])\n",
    "    files_clinton = sorted([fn for fn in files if 'data_clinton' in fn and not 'downsampled' in fn])\n",
    "    files_cruz = sorted([fn for fn in files if 'data_cruz' in fn and not 'downsampled' in fn])\n",
    "\n",
    "    downsample(files_sanders, './data_sanders_downsampled.csv', R)\n",
    "    downsample(files_trump, './data_trump_downsampled.csv', R)\n",
    "    downsample(files_clinton, './data_clinton_downsampled.csv', R)\n",
    "    downsample(files_cruz, './data_cruz_downsampled.csv', R)"
   ]
  },
  {
   "cell_type": "code",
   "execution_count": 5,
   "metadata": {
    "collapsed": false
   },
   "outputs": [],
   "source": [
    "R = 60*60 # bin size in seconds\n",
    "do_something(R)"
   ]
  },
  {
   "cell_type": "markdown",
   "metadata": {},
   "source": [
    "# --- below here is old stuff ---"
   ]
  },
  {
   "cell_type": "markdown",
   "metadata": {},
   "source": [
    "# Downsample per x minutes"
   ]
  },
  {
   "cell_type": "code",
   "execution_count": 28,
   "metadata": {
    "collapsed": true
   },
   "outputs": [],
   "source": [
    "minutes = 10\n",
    "R = minutes * 60"
   ]
  },
  {
   "cell_type": "code",
   "execution_count": 34,
   "metadata": {
    "collapsed": false
   },
   "outputs": [],
   "source": [
    "for fn in files:\n",
    "    with open('d3js/'+fn, 'wb') as f:\n",
    "        spamwriter = csv.writer(f, delimiter=',',\n",
    "                                quotechar='|', quoting=csv.QUOTE_MINIMAL)\n",
    "        spamwriter.writerow(['date','mood'])\n",
    "    prev_time = 0\n",
    "    mood = []\n",
    "    counter = 0\n",
    "    with open(fn, 'rb') as f:\n",
    "        spamreader = csv.reader(f, delimiter=' ', quotechar='|')\n",
    "        for row in spamreader:\n",
    "            mood.append(float(row[1]))\n",
    "            if prev_time == 0:\n",
    "                prev_time = float(row[0])\n",
    "                continue\n",
    "            if float(row[0]) - prev_time > R:\n",
    "                with open('d3js/'+fn, 'ab') as f:\n",
    "                    spamwriter = csv.writer(f, delimiter=',',\n",
    "                                            quotechar='|', quoting=csv.QUOTE_MINIMAL)\n",
    "                    spamwriter.writerow([float(row[0])-60, np.mean(mood)])\n",
    "                mood = []\n",
    "                prev_time = float(row[0])"
   ]
  },
  {
   "cell_type": "markdown",
   "metadata": {},
   "source": [
    "# Compression"
   ]
  },
  {
   "cell_type": "code",
   "execution_count": null,
   "metadata": {
    "collapsed": true
   },
   "outputs": [],
   "source": [
    "import gzip\n",
    "import shutil\n",
    "with open('data_trump.csv', 'rb') as f_in, gzip.open('data_trump.csv.gz', 'wb') as f_out:\n",
    "    shutil.copyfileobj(f_in, f_out)"
   ]
  },
  {
   "cell_type": "markdown",
   "metadata": {},
   "source": [
    "# automatic file loading"
   ]
  },
  {
   "cell_type": "code",
   "execution_count": 2,
   "metadata": {
    "collapsed": true
   },
   "outputs": [],
   "source": [
    "import os"
   ]
  },
  {
   "cell_type": "code",
   "execution_count": 5,
   "metadata": {
    "collapsed": true
   },
   "outputs": [],
   "source": [
    "def downsample(files, outfile, R):\n",
    "    with open(outfile, 'wb') as f:\n",
    "        spamwriter = csv.writer(f, delimiter=',',\n",
    "                                quotechar='|', quoting=csv.QUOTE_MINIMAL)\n",
    "        spamwriter.writerow(['date','mood'])\n",
    "    for fn in files:\n",
    "        prev_time = 0\n",
    "        mood = []\n",
    "        counter = 0\n",
    "        with open(fn, 'rb') as f:\n",
    "            spamreader = csv.reader(f, delimiter=',', quotechar='|')\n",
    "            for row in spamreader:\n",
    "                mood.append(float(row[1]))\n",
    "                if prev_time == 0:\n",
    "                    prev_time = float(row[0])\n",
    "                    continue\n",
    "                if float(row[0]) - prev_time > R:\n",
    "                    with open(outfile, 'ab') as f:\n",
    "                        spamwriter = csv.writer(f, delimiter=',',\n",
    "                                                quotechar='|', quoting=csv.QUOTE_MINIMAL)\n",
    "                        spamwriter.writerow([float(row[0])-60, np.mean(mood)])\n",
    "                    mood = []\n",
    "                    prev_time = float(row[0])"
   ]
  },
  {
   "cell_type": "code",
   "execution_count": 7,
   "metadata": {
    "collapsed": false
   },
   "outputs": [
    {
     "name": "stdout",
     "output_type": "stream",
     "text": [
      "['data_sanders_00000.csv']\n",
      "['data_trump_00000.csv']\n",
      "['data_clinton_00000.csv']\n",
      "['data_cruz_00000.csv']\n"
     ]
    }
   ],
   "source": [
    "files = os.listdir('.')\n",
    "files = [fn for fn in files if fn.endswith('.csv')]\n",
    "\n",
    "files_sanders = sorted([fn for fn in files if 'data_sanders' in fn])\n",
    "print files_sanders\n",
    "files_trump = sorted([fn for fn in files if 'data_trump' in fn])\n",
    "print files_trump\n",
    "files_clinton = sorted([fn for fn in files if 'data_clinton' in fn])\n",
    "print files_clinton\n",
    "files_cruz = sorted([fn for fn in files if 'data_cruz' in fn])\n",
    "print files_cruz\n",
    "\n",
    "R = 10 * 60 # 10 minute bins\n",
    "\n",
    "downsample(files_sanders, 'd3js/data_sanders_downsampled.csv', R)\n",
    "downsample(files_trump, 'd3js/data_trump_downsampled.csv', R)\n",
    "downsample(files_clinton, 'd3js/data_clinton_downsampled.csv', R)\n",
    "downsample(files_cruz, 'd3js/data_cruz_downsampled.csv', R)"
   ]
  },
  {
   "cell_type": "markdown",
   "metadata": {},
   "source": [
    "## test non-blocking reading"
   ]
  },
  {
   "cell_type": "code",
   "execution_count": 8,
   "metadata": {
    "collapsed": true
   },
   "outputs": [],
   "source": [
    "f = file('data_sanders_00000.csv', 'r')"
   ]
  },
  {
   "cell_type": "code",
   "execution_count": null,
   "metadata": {
    "collapsed": true
   },
   "outputs": [],
   "source": [
    "while 1:\n",
    "    where = f.tell()\n",
    "    line = f.readline()\n",
    "    if not line:\n",
    "        time.sleep(1)\n",
    "        f.seek(where)\n",
    "    else:\n",
    "        print line, # already has newline"
   ]
  },
  {
   "cell_type": "code",
   "execution_count": 11,
   "metadata": {
    "collapsed": false
   },
   "outputs": [
    {
     "name": "stdout",
     "output_type": "stream",
     "text": [
      "3378880\n"
     ]
    }
   ],
   "source": [
    "f.seek(0,2)\n",
    "print f.tell()"
   ]
  },
  {
   "cell_type": "code",
   "execution_count": 12,
   "metadata": {
    "collapsed": true
   },
   "outputs": [],
   "source": [
    "f.seek(0)"
   ]
  },
  {
   "cell_type": "code",
   "execution_count": 25,
   "metadata": {
    "collapsed": true
   },
   "outputs": [],
   "source": [
    "import StringIO"
   ]
  },
  {
   "cell_type": "code",
   "execution_count": 27,
   "metadata": {
    "collapsed": false
   },
   "outputs": [
    {
     "name": "stdout",
     "output_type": "stream",
     "text": [
      "['1458999471.343462', '0.0772']\n"
     ]
    }
   ],
   "source": [
    "x = StringIO.StringIO(f.readline())\n",
    "reader = csv.reader(x, delimiter=',')\n",
    "for row in reader:\n",
    "    print row"
   ]
  }
 ],
 "metadata": {
  "kernelspec": {
   "display_name": "Python 2",
   "language": "python",
   "name": "python2"
  },
  "language_info": {
   "codemirror_mode": {
    "name": "ipython",
    "version": 2
   },
   "file_extension": ".py",
   "mimetype": "text/x-python",
   "name": "python",
   "nbconvert_exporter": "python",
   "pygments_lexer": "ipython2",
   "version": "2.7.11"
  }
 },
 "nbformat": 4,
 "nbformat_minor": 0
}
