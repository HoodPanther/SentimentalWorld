{
 "cells": [
  {
   "cell_type": "code",
   "execution_count": 94,
   "metadata": {
    "collapsed": true
   },
   "outputs": [],
   "source": [
    "import numpy as np\n",
    "import matplotlib.pyplot as plt\n",
    "%matplotlib inline"
   ]
  },
  {
   "cell_type": "code",
   "execution_count": 2,
   "metadata": {
    "collapsed": true
   },
   "outputs": [],
   "source": [
    "data_sanders = np.genfromtxt('data_sanders_downsampled.csv', delimiter=',')\n",
    "data_clinton = np.genfromtxt('data_clinton_downsampled.csv', delimiter=',')\n",
    "data_trump = np.genfromtxt('data_trump_downsampled.csv', delimiter=',')\n",
    "data_cruz = np.genfromtxt('data_cruz_downsampled.csv', delimiter=',')"
   ]
  },
  {
   "cell_type": "code",
   "execution_count": 71,
   "metadata": {
    "collapsed": true
   },
   "outputs": [],
   "source": [
    "mean_sanders = np.nanmean(data_sanders[:,1])\n",
    "mean_clinton = np.nanmean(data_clinton[:,1])\n",
    "mean_trump = np.nanmean(data_trump[:,1])\n",
    "mean_cruz = np.nanmean(data_cruz[:,1])"
   ]
  },
  {
   "cell_type": "code",
   "execution_count": 95,
   "metadata": {
    "collapsed": false
   },
   "outputs": [],
   "source": [
    "import math\n",
    "def wmean(data):\n",
    "    temp = []\n",
    "    total_tweets = 0\n",
    "    for x in data[1:]:\n",
    "        if not math.isnan(x[1]):\n",
    "            temp.append(x[1]*x[2])\n",
    "            total_tweets += x[2]\n",
    "    return np.sum(temp)/total_tweets"
   ]
  },
  {
   "cell_type": "code",
   "execution_count": 77,
   "metadata": {
    "collapsed": false
   },
   "outputs": [],
   "source": [
    "mean_sanders = wmean(data_sanders)\n",
    "mean_clinton = wmean(data_clinton)\n",
    "mean_trump = wmean(data_trump)\n",
    "mean_cruz = wmean(data_cruz)"
   ]
  },
  {
   "cell_type": "code",
   "execution_count": 75,
   "metadata": {
    "collapsed": false
   },
   "outputs": [
    {
     "name": "stdout",
     "output_type": "stream",
     "text": [
      "0.0754757175582\n",
      "0.0903755924953\n"
     ]
    }
   ],
   "source": [
    "print mean_sanders\n",
    "print wmean_sanders"
   ]
  },
  {
   "cell_type": "code",
   "execution_count": 84,
   "metadata": {
    "collapsed": true
   },
   "outputs": [],
   "source": [
    "stds = [np.nanstd(data_sanders[:,1]), np.nanstd(data_trump[:,1]), np.nanstd(data_clinton[:,1]), np.nanstd(data_cruz[:,1])]"
   ]
  },
  {
   "cell_type": "code",
   "execution_count": 97,
   "metadata": {
    "collapsed": true
   },
   "outputs": [],
   "source": [
    "from scipy.stats import sem\n",
    "from math import isnan\n",
    "def nansem(x):\n",
    "    x = [y for y in x if not isnan(y)]\n",
    "    return sem(x)"
   ]
  },
  {
   "cell_type": "code",
   "execution_count": 98,
   "metadata": {
    "collapsed": true
   },
   "outputs": [],
   "source": [
    "datas = [data_sanders, data_trump, data_clinton, data_cruz]"
   ]
  },
  {
   "cell_type": "code",
   "execution_count": 99,
   "metadata": {
    "collapsed": true
   },
   "outputs": [],
   "source": [
    "sems = []\n",
    "for d in datas:\n",
    "    sems.append(nansem(d[:,1]))"
   ]
  },
  {
   "cell_type": "code",
   "execution_count": 100,
   "metadata": {
    "collapsed": false
   },
   "outputs": [
    {
     "data": {
      "text/plain": [
       "[0.001951862012786251,\n",
       " 0.0011622292964955907,\n",
       " 0.0012230704868993129,\n",
       " 0.0020050743324795612]"
      ]
     },
     "execution_count": 100,
     "metadata": {},
     "output_type": "execute_result"
    }
   ],
   "source": [
    "sems"
   ]
  },
  {
   "cell_type": "code",
   "execution_count": 118,
   "metadata": {
    "collapsed": true
   },
   "outputs": [],
   "source": [
    "import scipy as sp\n",
    "import scipy.stats\n",
    "from math import isnan\n",
    "\n",
    "def mean_confidence_interval(data, confidence=0.95):\n",
    "    data = [d for d in data if not isnan(d)]\n",
    "    a = 1.0*np.array(data)\n",
    "    n = len(a)\n",
    "    m, se = np.mean(a), scipy.stats.sem(a)\n",
    "    h = se * sp.stats.t.ppf((1+confidence)/2., n-1)\n",
    "    return m, m-h, m+h\n",
    "\n",
    "def mean_confidence_interval_size(data, confidence=0.95):\n",
    "    data = [d for d in data if not isnan(d)]\n",
    "    a = 1.0*np.array(data)\n",
    "    n = len(a)\n",
    "    m, se = np.mean(a), scipy.stats.sem(a)\n",
    "    h = se * sp.stats.t.ppf((1+confidence)/2., n-1)\n",
    "    return h"
   ]
  },
  {
   "cell_type": "code",
   "execution_count": 119,
   "metadata": {
    "collapsed": false
   },
   "outputs": [
    {
     "name": "stdout",
     "output_type": "stream",
     "text": [
      "[ 0.00382917  0.00228001  0.00239943  0.00393364]\n"
     ]
    }
   ],
   "source": [
    "conf_intervals = []\n",
    "for d in datas:\n",
    "    conf_intervals.append(mean_confidence_interval_size(d[:,1]))\n",
    "print np.array(conf_intervals)"
   ]
  },
  {
   "cell_type": "code",
   "execution_count": 120,
   "metadata": {
    "collapsed": false
   },
   "outputs": [
    {
     "data": {
      "image/png": "[encoded data removed]",
      "text/plain": [
       "<matplotlib.figure.Figure at 0x10d6b5cd0>"
      ]
     },
     "metadata": {},
     "output_type": "display_data"
    }
   ],
   "source": [
    "width = 0.7\n",
    "ind = np.arange(4)+width*2\n",
    "fig, ax = plt.subplots()\n",
    "ax.bar(ind, [mean_sanders, mean_trump, mean_clinton, mean_cruz], width=width, yerr=conf_intervals, color='lightblue')\n",
    "ax.set_xticks(ind+width*0.5)\n",
    "ax.set_xticklabels(['Sanders', 'Trump', 'Clinton', 'Cruz'])\n",
    "plt.axhline(y=0, c='black')\n",
    "# ax.set_ylim([-0.5,0.5])\n",
    "plt.show()"
   ]
  }
 ],
 "metadata": {
  "kernelspec": {
   "display_name": "Python 2",
   "language": "python",
   "name": "python2"
  },
  "language_info": {
   "codemirror_mode": {
    "name": "ipython",
    "version": 2
   },
   "file_extension": ".py",
   "mimetype": "text/x-python",
   "name": "python",
   "nbconvert_exporter": "python",
   "pygments_lexer": "ipython2",
   "version": "2.7.11"
  }
 },
 "nbformat": 4,
 "nbformat_minor": 0
}
