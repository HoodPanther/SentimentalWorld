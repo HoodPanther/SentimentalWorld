{
 "cells": [
  {
   "cell_type": "code",
   "execution_count": 1,
   "metadata": {
    "collapsed": true
   },
   "outputs": [],
   "source": [
    "import numpy as np\n",
    "import csv"
   ]
  },
  {
   "cell_type": "code",
   "execution_count": 2,
   "metadata": {
    "collapsed": true
   },
   "outputs": [],
   "source": [
    "files = ['data_trump.csv', 'data_sanders.csv', 'data_clinton.csv', 'data_cruz.csv']"
   ]
  },
  {
   "cell_type": "markdown",
   "metadata": {},
   "source": [
    "# Downsample per x minutes"
   ]
  },
  {
   "cell_type": "code",
   "execution_count": 28,
   "metadata": {
    "collapsed": true
   },
   "outputs": [],
   "source": [
    "minutes = 10\n",
    "R = minutes * 60"
   ]
  },
  {
   "cell_type": "code",
   "execution_count": 34,
   "metadata": {
    "collapsed": false
   },
   "outputs": [],
   "source": [
    "for fn in files:\n",
    "    with open('d3js/'+fn, 'wb') as f:\n",
    "        spamwriter = csv.writer(f, delimiter=',',\n",
    "                                quotechar='|', quoting=csv.QUOTE_MINIMAL)\n",
    "        spamwriter.writerow(['date','mood'])\n",
    "    prev_time = 0\n",
    "    mood = []\n",
    "    counter = 0\n",
    "    with open(fn, 'rb') as f:\n",
    "        spamreader = csv.reader(f, delimiter=' ', quotechar='|')\n",
    "        for row in spamreader:\n",
    "            mood.append(float(row[1]))\n",
    "            if prev_time == 0:\n",
    "                prev_time = float(row[0])\n",
    "                continue\n",
    "            if float(row[0]) - prev_time > R:\n",
    "                with open('d3js/'+fn, 'ab') as f:\n",
    "                    spamwriter = csv.writer(f, delimiter=',',\n",
    "                                            quotechar='|', quoting=csv.QUOTE_MINIMAL)\n",
    "                    spamwriter.writerow([float(row[0])-60, np.mean(mood)])\n",
    "                mood = []\n",
    "                prev_time = float(row[0])"
   ]
  },
  {
   "cell_type": "markdown",
   "metadata": {},
   "source": [
    "# Compression"
   ]
  },
  {
   "cell_type": "code",
   "execution_count": null,
   "metadata": {
    "collapsed": true
   },
   "outputs": [],
   "source": [
    "import gzip\n",
    "import shutil\n",
    "with open('data_trump.csv', 'rb') as f_in, gzip.open('data_trump.csv.gz', 'wb') as f_out:\n",
    "    shutil.copyfileobj(f_in, f_out)"
   ]
  },
  {
   "cell_type": "markdown",
   "metadata": {},
   "source": [
    "# automatic file loading"
   ]
  },
  {
   "cell_type": "code",
   "execution_count": 35,
   "metadata": {
    "collapsed": true
   },
   "outputs": [],
   "source": [
    "import os"
   ]
  },
  {
   "cell_type": "code",
   "execution_count": 41,
   "metadata": {
    "collapsed": true
   },
   "outputs": [],
   "source": [
    "def downsample(files, outfile, R):\n",
    "    with open(outfile, 'wb') as f:\n",
    "        spamwriter = csv.writer(f, delimiter=',',\n",
    "                                quotechar='|', quoting=csv.QUOTE_MINIMAL)\n",
    "        spamwriter.writerow(['date','mood'])\n",
    "    for fn in files:\n",
    "        prev_time = 0\n",
    "        mood = []\n",
    "        counter = 0\n",
    "        with open(fn, 'rb') as f:\n",
    "            spamreader = csv.reader(f, delimiter=' ', quotechar='|')\n",
    "            for row in spamreader:\n",
    "                mood.append(float(row[1]))\n",
    "                if prev_time == 0:\n",
    "                    prev_time = float(row[0])\n",
    "                    continue\n",
    "                if float(row[0]) - prev_time > R:\n",
    "                    with open(outfile, 'ab') as f:\n",
    "                        spamwriter = csv.writer(f, delimiter=',',\n",
    "                                                quotechar='|', quoting=csv.QUOTE_MINIMAL)\n",
    "                        spamwriter.writerow([float(row[0])-60, np.mean(mood)])\n",
    "                    mood = []\n",
    "                    prev_time = float(row[0])"
   ]
  },
  {
   "cell_type": "code",
   "execution_count": 45,
   "metadata": {
    "collapsed": false
   },
   "outputs": [
    {
     "name": "stdout",
     "output_type": "stream",
     "text": [
      "['data_sanders.csv']\n",
      "['data_trump.csv']\n",
      "['data_clinton.csv']\n",
      "['data_cruz.csv']\n"
     ]
    }
   ],
   "source": [
    "files = os.listdir('.')\n",
    "files = [fn for fn in files if fn.endswith('.csv')]\n",
    "\n",
    "files_sanders = sorted([fn for fn in files if 'data_sanders' in fn])\n",
    "print files_sanders\n",
    "files_trump = sorted([fn for fn in files if 'data_trump' in fn])\n",
    "print files_trump\n",
    "files_clinton = sorted([fn for fn in files if 'data_clinton' in fn])\n",
    "print files_clinton\n",
    "files_cruz = sorted([fn for fn in files if 'data_cruz' in fn])\n",
    "print files_cruz\n",
    "\n",
    "R = 10 * 60 # 10 minute bins\n",
    "\n",
    "downsample(files_sanders, 'downsampled/data_sanders_downsampled.csv', R)\n",
    "downsample(files_trump, 'downsampled/data_trump_downsampled.csv', R)\n",
    "downsample(files_clinton, 'downsampled/data_clinton_downsampled.csv', R)\n",
    "downsample(files_cruz, 'downsampled/data_cruz_downsampled.csv', R)"
   ]
  }
 ],
 "metadata": {
  "kernelspec": {
   "display_name": "Python 2",
   "language": "python",
   "name": "python2"
  },
  "language_info": {
   "codemirror_mode": {
    "name": "ipython",
    "version": 2
   },
   "file_extension": ".py",
   "mimetype": "text/x-python",
   "name": "python",
   "nbconvert_exporter": "python",
   "pygments_lexer": "ipython2",
   "version": "2.7.11"
  }
 },
 "nbformat": 4,
 "nbformat_minor": 0
}
