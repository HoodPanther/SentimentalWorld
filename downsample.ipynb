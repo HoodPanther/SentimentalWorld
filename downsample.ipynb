{
 "cells": [
  {
   "cell_type": "code",
   "execution_count": 5,
   "metadata": {
    "collapsed": true
   },
   "outputs": [],
   "source": [
    "import numpy as np\n",
    "import csv"
   ]
  },
  {
   "cell_type": "code",
   "execution_count": 2,
   "metadata": {
    "collapsed": true
   },
   "outputs": [],
   "source": [
    "files = ['data_trump.csv', 'data_sanders.csv', 'data_clinton.csv', 'data_cruz.csv']"
   ]
  },
  {
   "cell_type": "code",
   "execution_count": null,
   "metadata": {
    "collapsed": false
   },
   "outputs": [],
   "source": [
    "for fn in files:\n",
    "    data = np.genfromtxt(fn)\n",
    "    R = int(len(data)/100)\n",
    "    print R\n",
    "    pad_size = math.ceil(float(len(data))/R)*R - len(data)\n",
    "    data_padded = np.append(data[:,0], np.zeros(pad_size)*np.NaN)\n",
    "    a = scipy.nanmean(data_padded.reshape(-1,R), axis=1)\n",
    "    data_padded = np.append(data[:,1], np.zeros(pad_size)*np.NaN)\n",
    "    b = scipy.nanmean(data_padded.reshape(-1,R), axis=1)\n",
    "    c = np.vstack((a,b)).T\n",
    "    np.savetxt('d3js/'+fn,c,delimiter=',',header='date,mood',comments='')"
   ]
  },
  {
   "cell_type": "markdown",
   "metadata": {},
   "source": [
    "# Downsample per x minutes"
   ]
  },
  {
   "cell_type": "code",
   "execution_count": 3,
   "metadata": {
    "collapsed": true
   },
   "outputs": [],
   "source": [
    "minutes = 5\n",
    "R = minutes * 60"
   ]
  },
  {
   "cell_type": "code",
   "execution_count": 6,
   "metadata": {
    "collapsed": false
   },
   "outputs": [],
   "source": [
    "for fn in files:\n",
    "    with open('d3js/'+fn, 'wb') as f:\n",
    "        spamwriter = csv.writer(f, delimiter=',',\n",
    "                                quotechar='|', quoting=csv.QUOTE_MINIMAL)\n",
    "        spamwriter.writerow(['date','mood'])\n",
    "    prev_time = 0\n",
    "    mood = []\n",
    "    counter = 0\n",
    "    with open(fn, 'rb') as f:\n",
    "        spamreader = csv.reader(f, delimiter=' ', quotechar='|')\n",
    "        for row in spamreader:\n",
    "            mood.append(float(row[1]))\n",
    "            if prev_time == 0:\n",
    "                prev_time = float(row[0])\n",
    "                continue\n",
    "            if float(row[0]) - prev_time > R:\n",
    "                with open('d3js/'+fn, 'ab') as f:\n",
    "                    spamwriter = csv.writer(f, delimiter=',',\n",
    "                                            quotechar='|', quoting=csv.QUOTE_MINIMAL)\n",
    "                    spamwriter.writerow([float(row[0])-60, np.mean(mood)])\n",
    "                mood = []\n",
    "                prev_time = float(row[0])"
   ]
  },
  {
   "cell_type": "markdown",
   "metadata": {},
   "source": [
    "# Compression"
   ]
  },
  {
   "cell_type": "code",
   "execution_count": null,
   "metadata": {
    "collapsed": true
   },
   "outputs": [],
   "source": [
    "import gzip\n",
    "import shutil\n",
    "with open('data_trump.csv', 'rb') as f_in, gzip.open('data_trump.csv.gz', 'wb') as f_out:\n",
    "    shutil.copyfileobj(f_in, f_out)"
   ]
  }
 ],
 "metadata": {
  "kernelspec": {
   "display_name": "Python 2",
   "language": "python",
   "name": "python2"
  },
  "language_info": {
   "codemirror_mode": {
    "name": "ipython",
    "version": 2
   },
   "file_extension": ".py",
   "mimetype": "text/x-python",
   "name": "python",
   "nbconvert_exporter": "python",
   "pygments_lexer": "ipython2",
   "version": "2.7.11"
  }
 },
 "nbformat": 4,
 "nbformat_minor": 0
}
