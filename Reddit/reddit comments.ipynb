{
 "cells": [
  {
   "cell_type": "code",
   "execution_count": 3,
   "metadata": {
    "collapsed": true
   },
   "outputs": [],
   "source": [
    "import pandas as pd\n",
    "import numpy as np\n",
    "from __future__ import division\n",
    "from math import ceil\n",
    "from nltk.sentiment.vader import SentimentIntensityAnalyzer\n",
    "import matplotlib.pyplot as plt\n",
    "%matplotlib inline"
   ]
  },
  {
   "cell_type": "code",
   "execution_count": 43,
   "metadata": {
    "collapsed": false
   },
   "outputs": [],
   "source": [
    "data = pd.read_csv('/home/jeroen/Downloads/results-20160423-111403-cruz.csv')"
   ]
  },
  {
   "cell_type": "code",
   "execution_count": 44,
   "metadata": {
    "collapsed": false
   },
   "outputs": [],
   "source": [
    "data['sentiment'] = pd.Series(np.zeros(len(data)), index=data.index)"
   ]
  },
  {
   "cell_type": "code",
   "execution_count": 45,
   "metadata": {
    "collapsed": false,
    "scrolled": true
   },
   "outputs": [
    {
     "data": {
      "text/html": [
       "<div>\n",
       "<table border=\"1\" class=\"dataframe\">\n",
       "  <thead>\n",
       "    <tr style=\"text-align: right;\">\n",
       "      <th></th>\n",
       "      <th>subreddit</th>\n",
       "      <th>body</th>\n",
       "      <th>created_utc</th>\n",
       "      <th>sentiment</th>\n",
       "    </tr>\n",
       "  </thead>\n",
       "  <tbody>\n",
       "    <tr>\n",
       "      <th>0</th>\n",
       "      <td>2007scape</td>\n",
       "      <td>Hi  SantaCruZ3r,\\n\\nHave a look here and conta...</td>\n",
       "      <td>1461342161</td>\n",
       "      <td>0</td>\n",
       "    </tr>\n",
       "    <tr>\n",
       "      <th>1</th>\n",
       "      <td>AFL</td>\n",
       "      <td>Look on the brightside, at least he doesn't su...</td>\n",
       "      <td>1461328952</td>\n",
       "      <td>0</td>\n",
       "    </tr>\n",
       "    <tr>\n",
       "      <th>2</th>\n",
       "      <td>Advice</td>\n",
       "      <td>I would want something waiting for me. Otherwi...</td>\n",
       "      <td>1461355322</td>\n",
       "      <td>0</td>\n",
       "    </tr>\n",
       "    <tr>\n",
       "      <th>3</th>\n",
       "      <td>AdviceAnimals</td>\n",
       "      <td>I love the conservative dilemmas too. There ar...</td>\n",
       "      <td>1461396590</td>\n",
       "      <td>0</td>\n",
       "    </tr>\n",
       "    <tr>\n",
       "      <th>4</th>\n",
       "      <td>AdviceAnimals</td>\n",
       "      <td>&amp;gt;That's not what people believe. They are n...</td>\n",
       "      <td>1461328306</td>\n",
       "      <td>0</td>\n",
       "    </tr>\n",
       "  </tbody>\n",
       "</table>\n",
       "</div>"
      ],
      "text/plain": [
       "       subreddit                                               body  \\\n",
       "0      2007scape  Hi  SantaCruZ3r,\\n\\nHave a look here and conta...   \n",
       "1            AFL  Look on the brightside, at least he doesn't su...   \n",
       "2         Advice  I would want something waiting for me. Otherwi...   \n",
       "3  AdviceAnimals  I love the conservative dilemmas too. There ar...   \n",
       "4  AdviceAnimals  &gt;That's not what people believe. They are n...   \n",
       "\n",
       "   created_utc  sentiment  \n",
       "0   1461342161          0  \n",
       "1   1461328952          0  \n",
       "2   1461355322          0  \n",
       "3   1461396590          0  \n",
       "4   1461328306          0  "
      ]
     },
     "execution_count": 45,
     "metadata": {},
     "output_type": "execute_result"
    }
   ],
   "source": [
    "data.head()"
   ]
  },
  {
   "cell_type": "code",
   "execution_count": 46,
   "metadata": {
    "collapsed": true
   },
   "outputs": [],
   "source": [
    "sid = SentimentIntensityAnalyzer()"
   ]
  },
  {
   "cell_type": "code",
   "execution_count": 47,
   "metadata": {
    "collapsed": false
   },
   "outputs": [
    {
     "name": "stdout",
     "output_type": "stream",
     "text": [
      "0.0%\n",
      "10.0%\n",
      "20.0%\n",
      "30.0%\n",
      "40.0%\n",
      "50.0%\n",
      "60.0%\n",
      "70.0%\n",
      "80.0%\n",
      "90.0%\n"
     ]
    }
   ],
   "source": [
    "for index, row in data.iterrows():\n",
    "    data.set_value(index, 'sentiment', sid.polarity_scores(row['body'])['compound'])\n",
    "    if index%int(len(data)/10) == 0:\n",
    "        print str(ceil(index/(len(data)/100)))+'%'"
   ]
  },
  {
   "cell_type": "code",
   "execution_count": 48,
   "metadata": {
    "collapsed": false
   },
   "outputs": [
    {
     "data": {
      "text/html": [
       "<div>\n",
       "<table border=\"1\" class=\"dataframe\">\n",
       "  <thead>\n",
       "    <tr style=\"text-align: right;\">\n",
       "      <th></th>\n",
       "      <th>subreddit</th>\n",
       "      <th>body</th>\n",
       "      <th>created_utc</th>\n",
       "      <th>sentiment</th>\n",
       "    </tr>\n",
       "  </thead>\n",
       "  <tbody>\n",
       "    <tr>\n",
       "      <th>2815</th>\n",
       "      <td>worldnews</td>\n",
       "      <td>Yeah, either Clinton or Trump. Sanders and Cru...</td>\n",
       "      <td>1461314244</td>\n",
       "      <td>0.2534</td>\n",
       "    </tr>\n",
       "    <tr>\n",
       "      <th>2816</th>\n",
       "      <td>worldnews</td>\n",
       "      <td>He should run. I would vote for him over Ted C...</td>\n",
       "      <td>1461328063</td>\n",
       "      <td>0.0000</td>\n",
       "    </tr>\n",
       "    <tr>\n",
       "      <th>2817</th>\n",
       "      <td>worldnews</td>\n",
       "      <td>Not all of us just the crazy GOP loving Trump ...</td>\n",
       "      <td>1461353673</td>\n",
       "      <td>0.7096</td>\n",
       "    </tr>\n",
       "    <tr>\n",
       "      <th>2818</th>\n",
       "      <td>wow</td>\n",
       "      <td>So the Mage Orb and the Cruz \"charger mount\" (...</td>\n",
       "      <td>1461372800</td>\n",
       "      <td>0.0000</td>\n",
       "    </tr>\n",
       "    <tr>\n",
       "      <th>2819</th>\n",
       "      <td>wow</td>\n",
       "      <td>Seems like the Diablo 3 Cruzader inspired WoW ...</td>\n",
       "      <td>1461329318</td>\n",
       "      <td>0.8591</td>\n",
       "    </tr>\n",
       "  </tbody>\n",
       "</table>\n",
       "</div>"
      ],
      "text/plain": [
       "      subreddit                                               body  \\\n",
       "2815  worldnews  Yeah, either Clinton or Trump. Sanders and Cru...   \n",
       "2816  worldnews  He should run. I would vote for him over Ted C...   \n",
       "2817  worldnews  Not all of us just the crazy GOP loving Trump ...   \n",
       "2818        wow  So the Mage Orb and the Cruz \"charger mount\" (...   \n",
       "2819        wow  Seems like the Diablo 3 Cruzader inspired WoW ...   \n",
       "\n",
       "      created_utc  sentiment  \n",
       "2815   1461314244     0.2534  \n",
       "2816   1461328063     0.0000  \n",
       "2817   1461353673     0.7096  \n",
       "2818   1461372800     0.0000  \n",
       "2819   1461329318     0.8591  "
      ]
     },
     "execution_count": 48,
     "metadata": {},
     "output_type": "execute_result"
    }
   ],
   "source": [
    "data.tail()"
   ]
  },
  {
   "cell_type": "code",
   "execution_count": 49,
   "metadata": {
    "collapsed": false
   },
   "outputs": [
    {
     "data": {
      "image/png": "[encoded data removed]",
      "text/plain": [
       "<matplotlib.figure.Figure at 0x7fec504774d0>"
      ]
     },
     "metadata": {},
     "output_type": "display_data"
    }
   ],
   "source": [
    "plt.plot(data['created_utc'], data['sentiment'], '.')\n",
    "plt.show()"
   ]
  },
  {
   "cell_type": "code",
   "execution_count": 50,
   "metadata": {
    "collapsed": true
   },
   "outputs": [],
   "source": [
    "import scipy.signal"
   ]
  },
  {
   "cell_type": "code",
   "execution_count": 51,
   "metadata": {
    "collapsed": true
   },
   "outputs": [],
   "source": [
    "sentiment_resampled = scipy.signal.resample(data.sort_values('created_utc')['sentiment'], 7*2)"
   ]
  },
  {
   "cell_type": "code",
   "execution_count": 56,
   "metadata": {
    "collapsed": false
   },
   "outputs": [
    {
     "data": {
      "text/plain": [
       "(-1, 1)"
      ]
     },
     "execution_count": 56,
     "metadata": {},
     "output_type": "execute_result"
    },
    {
     "data": {
      "image/png": "[encoded data removed]",
      "text/plain": [
       "<matplotlib.figure.Figure at 0x7fec4fcf2410>"
      ]
     },
     "metadata": {},
     "output_type": "display_data"
    }
   ],
   "source": [
    "plt.plot(sentiment_resampled)\n",
    "plt.ylim([-1, 1])"
   ]
  }
 ],
 "metadata": {
  "kernelspec": {
   "display_name": "Python 2",
   "language": "python",
   "name": "python2"
  },
  "language_info": {
   "codemirror_mode": {
    "name": "ipython",
    "version": 2
   },
   "file_extension": ".py",
   "mimetype": "text/x-python",
   "name": "python",
   "nbconvert_exporter": "python",
   "pygments_lexer": "ipython2",
   "version": "2.7.11"
  }
 },
 "nbformat": 4,
 "nbformat_minor": 0
}
