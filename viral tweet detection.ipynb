{
 "cells": [
  {
   "cell_type": "code",
   "execution_count": 1,
   "metadata": {
    "collapsed": false
   },
   "outputs": [],
   "source": [
    "import numpy as np\n",
    "import matplotlib.pyplot as plt\n",
    "%matplotlib inline\n",
    "from __future__ import division\n",
    "from collections import Counter\n",
    "import json\n",
    "import urllib2\n",
    "import pandas as pd\n",
    "from IPython.core.display import display, HTML"
   ]
  },
  {
   "cell_type": "code",
   "execution_count": 2,
   "metadata": {
    "collapsed": true
   },
   "outputs": [],
   "source": [
    "import matplotlib\n",
    "def hide_spines():\n",
    "    \"\"\"Hides the top and rightmost axis spines from view for all active\n",
    "    figures and their respective axes.\"\"\"\n",
    "\n",
    "    # Retrieve a list of all current figures.\n",
    "    figures = [x for x in matplotlib._pylab_helpers.Gcf.get_all_fig_managers()]\n",
    "    for figure in figures:\n",
    "        # Get all Axis instances related to the figure.\n",
    "        for ax in figure.canvas.figure.get_axes():\n",
    "            # Disable spines.\n",
    "            ax.spines['right'].set_color('none')\n",
    "            ax.spines['top'].set_color('none')\n",
    "            ax.spines['left'].set_color('none')\n",
    "            ax.spines['bottom'].set_color('none')\n",
    "            # Disable ticks.\n",
    "            ax.xaxis.set_ticks_position('bottom')\n",
    "            ax.yaxis.set_ticks_position('left')"
   ]
  },
  {
   "cell_type": "code",
   "execution_count": 85,
   "metadata": {
    "collapsed": true
   },
   "outputs": [],
   "source": [
    "candidate = 'sanders'"
   ]
  },
  {
   "cell_type": "code",
   "execution_count": 86,
   "metadata": {
    "collapsed": false
   },
   "outputs": [],
   "source": [
    "data_downsampled = np.genfromtxt('data_'+candidate+'_downsampled.csv', delimiter=',')"
   ]
  },
  {
   "cell_type": "code",
   "execution_count": 87,
   "metadata": {
    "collapsed": false
   },
   "outputs": [
    {
     "data": {
      "image/png": "[encoded data removed]",
      "text/plain": [
       "<matplotlib.figure.Figure at 0x1157e5950>"
      ]
     },
     "metadata": {},
     "output_type": "display_data"
    }
   ],
   "source": [
    "plt.figure(figsize=(14,2))\n",
    "plt.plot(data_downsampled[:,0], data_downsampled[:,1])\n",
    "plt.axhline(y=0, c='black', alpha=0.1)\n",
    "plt.ylim([-0.5, 0.5])\n",
    "hide_spines()"
   ]
  },
  {
   "cell_type": "code",
   "execution_count": 88,
   "metadata": {
    "collapsed": false
   },
   "outputs": [],
   "source": [
    "# %%capture\n",
    "# data = np.genfromtxt('data_clinton_00000.csv', delimiter=',', usecols=(0,1,2), invalid_raise=False, loose=True);"
   ]
  },
  {
   "cell_type": "code",
   "execution_count": 89,
   "metadata": {
    "collapsed": false
   },
   "outputs": [],
   "source": [
    "data = pd.read_csv('data_'+candidate+'_00000.csv', header=None,\n",
    "                   names=['date', 'sentiment', 'tweetID'],\n",
    "                   dtype={'date': np.float64, 'senitiment': np.float64, 'tweetID': str})"
   ]
  },
  {
   "cell_type": "code",
   "execution_count": 90,
   "metadata": {
    "collapsed": false
   },
   "outputs": [],
   "source": [
    "data = data.dropna()"
   ]
  },
  {
   "cell_type": "code",
   "execution_count": 91,
   "metadata": {
    "collapsed": false
   },
   "outputs": [],
   "source": [
    "data_downsampled = np.array([d for d in data_downsampled if d[0] >= data.at[data.index[0], 'date']])"
   ]
  },
  {
   "cell_type": "markdown",
   "metadata": {},
   "source": [
    "# Tweets per second filter"
   ]
  },
  {
   "cell_type": "code",
   "execution_count": 92,
   "metadata": {
    "collapsed": true
   },
   "outputs": [],
   "source": [
    "# peak detection\n",
    "def get_peaks(x, threshold):\n",
    "    peaks = []\n",
    "    peaking = False\n",
    "    start = None\n",
    "    for a in x:\n",
    "        if not peaking:\n",
    "            if a[1] > threshold:\n",
    "                start = a[0]\n",
    "                peaking = True\n",
    "        elif peaking:\n",
    "            if a[1] < threshold:\n",
    "                end = a[0]\n",
    "                peaks.append([start, end])\n",
    "                start = None\n",
    "                peaking = False\n",
    "    return np.array(peaks)"
   ]
  },
  {
   "cell_type": "code",
   "execution_count": 93,
   "metadata": {
    "collapsed": false
   },
   "outputs": [],
   "source": [
    "tps = data_downsampled[:,[0,2]]\n",
    "tps[:,1] = tps[:,1] / 10 / 60\n",
    "tps_threshold = np.nanpercentile(tps[:,1], 95)\n",
    "peaks = get_peaks(tps, tps_threshold)"
   ]
  },
  {
   "cell_type": "code",
   "execution_count": 94,
   "metadata": {
    "collapsed": false
   },
   "outputs": [
    {
     "data": {
      "image/png": "[encoded data removed]",
      "text/plain": [
       "<matplotlib.figure.Figure at 0x12947ef90>"
      ]
     },
     "metadata": {},
     "output_type": "display_data"
    }
   ],
   "source": [
    "axes = []\n",
    "plt.figure(figsize=(14,8))\n",
    "plt.subplot(211)\n",
    "plt.title('Sentiment')\n",
    "plt.plot(data_downsampled[:,0], data_downsampled[:,1])\n",
    "plt.axhline(y=0, c='black', alpha=0.1)\n",
    "plt.ylim([-0.5, 0.5])\n",
    "plt.xlim([data_downsampled[0,0], data_downsampled[-1,0]])\n",
    "plt.subplot(212)\n",
    "plt.title('tweets per second')\n",
    "plt.plot(tps[:,0], tps[:,1])\n",
    "plt.xlim([data_downsampled[0,0], data_downsampled[-1,0]])\n",
    "plt.axhline(y=tps_threshold, c='r')\n",
    "for p in peaks:\n",
    "    plt.axvline(x=np.mean(p), ymin=0.9, ymax=1, c='r')\n",
    "    \n",
    "hide_spines()\n",
    "plt.tight_layout()\n",
    "plt.show()"
   ]
  },
  {
   "cell_type": "code",
   "execution_count": 95,
   "metadata": {
    "collapsed": false
   },
   "outputs": [
    {
     "name": "stdout",
     "output_type": "stream",
     "text": [
      "same top tweet as previous\n"
     ]
    }
   ],
   "source": [
    "# find and display trending tweets\n",
    "top_tweets = []\n",
    "\n",
    "prev_top_tweet = None\n",
    "for i in range(len(peaks)):\n",
    "    p = peaks[i]\n",
    "    # get data points within this peak\n",
    "    b = data.loc[(data['date'] > p[0]) & (data['date'] < p[1])]\n",
    "    # get most common tweet ID\n",
    "    top_tweet = b['tweetID'].value_counts().index[0]\n",
    "    # check if same tweet as previous peak\n",
    "    if prev_top_tweet and top_tweet == prev_top_tweet:\n",
    "        print 'same top tweet as previous'\n",
    "        continue\n",
    "    prev_top_tweet = top_tweet\n",
    "    top_tweets.append({'datetime': np.mean(p), 'tweetID': top_tweet})"
   ]
  },
  {
   "cell_type": "code",
   "execution_count": 97,
   "metadata": {
    "collapsed": false
   },
   "outputs": [],
   "source": [
    "# # save to json file\n",
    "# with open('toptweets.json', 'w') as f:\n",
    "#     json.dump(top_tweets, f, indent=0)"
   ]
  },
  {
   "cell_type": "code",
   "execution_count": 98,
   "metadata": {
    "collapsed": false
   },
   "outputs": [],
   "source": [
    "# # save to csv file\n",
    "# import csv\n",
    "# with open('toptweets.csv', 'w') as csvfile:\n",
    "#     fieldnames = ['datetime', 'tweetID']\n",
    "#     writer = csv.DictWriter(csvfile, fieldnames=fieldnames)\n",
    "    \n",
    "#     writer.writeheader()\n",
    "#     for t in top_tweets:\n",
    "#         writer.writerow(t)"
   ]
  },
  {
   "cell_type": "code",
   "execution_count": 99,
   "metadata": {
    "collapsed": false
   },
   "outputs": [
    {
     "data": {
      "text/html": [
       "<blockquote class=\"twitter-tweet\"><p lang=\"en\" dir=\"ltr\">Sanders, Trump, &amp; the Increase of the Non-Voters -  <a href=\"https://t.co/KXFFgTTOLl\">https://t.co/KXFFgTTOLl</a></p>&mdash; Viral Buzz News (@ViralBuzzes) <a href=\"https://twitter.com/ViralBuzzes/status/716492188939526144\">April 3, 2016</a></blockquote>\n",
       "<script async src=\"//platform.twitter.com/widgets.js\" charset=\"utf-8\"></script>"
      ],
      "text/plain": [
       "<IPython.core.display.HTML object>"
      ]
     },
     "metadata": {},
     "output_type": "display_data"
    },
    {
     "data": {
      "text/html": [
       "<blockquote class=\"twitter-tweet\"><p lang=\"en\" dir=\"ltr\">Bernie Sanders on the Panama Papers: Told you so <a href=\"https://t.co/nOzkghPo5R\">https://t.co/nOzkghPo5R</a></p>&mdash; WIRED (@WIRED) <a href=\"https://twitter.com/WIRED/status/717477569562542080\">April 5, 2016</a></blockquote>\n",
       "<script async src=\"//platform.twitter.com/widgets.js\" charset=\"utf-8\"></script>"
      ],
      "text/plain": [
       "<IPython.core.display.HTML object>"
      ]
     },
     "metadata": {},
     "output_type": "display_data"
    },
    {
     "data": {
      "text/html": [
       "<blockquote class=\"twitter-tweet\"><p lang=\"en\" dir=\"ltr\">BREAKING: Bernie Sanders is the projected winner of the Wisconsin Dem primary. <a href=\"https://t.co/f2pQYE2RJx\">https://t.co/f2pQYE2RJx</a> <a href=\"https://twitter.com/hashtag/Decision2016?src=hash\">#Decision2016</a> <a href=\"https://t.co/j69xDAXtTG\">pic.twitter.com/j69xDAXtTG</a></p>&mdash; NBC News (@NBCNews) <a href=\"https://twitter.com/NBCNews/status/717523412692910080\">April 6, 2016</a></blockquote>\n",
       "<script async src=\"//platform.twitter.com/widgets.js\" charset=\"utf-8\"></script>"
      ],
      "text/plain": [
       "<IPython.core.display.HTML object>"
      ]
     },
     "metadata": {},
     "output_type": "display_data"
    },
    {
     "data": {
      "text/html": [
       "<blockquote class=\"twitter-tweet\"><p lang=\"en\" dir=\"ltr\">Odd math in today&#39;s print <a href=\"https://twitter.com/nytimes\">@nytimes</a>: Cruz  &quot;soundly&quot; defeats Trump while Sanders prevails in &quot;much closer contest.&quot; <a href=\"https://t.co/uueQipO5n6\">pic.twitter.com/uueQipO5n6</a></p>&mdash; Daniel Denvir (@DanielDenvir) <a href=\"https://twitter.com/DanielDenvir/status/717702662611943424\">April 6, 2016</a></blockquote>\n",
       "<script async src=\"//platform.twitter.com/widgets.js\" charset=\"utf-8\"></script>"
      ],
      "text/plain": [
       "<IPython.core.display.HTML object>"
      ]
     },
     "metadata": {},
     "output_type": "display_data"
    },
    {
     "data": {
      "text/html": [
       "<blockquote class=\"twitter-tweet\"><p lang=\"en\" dir=\"ltr\">No Matter the Outcome, Bernie Sanders Is the Winner of This Election -  <a href=\"https://t.co/BkfBLMUsad\">https://t.co/BkfBLMUsad</a> <a href=\"https://t.co/MZ0FYkuZlw\">pic.twitter.com/MZ0FYkuZlw</a></p>&mdash; Style Fashion News (@StyleFashionHub) <a href=\"https://twitter.com/StyleFashionHub/status/717872519085068288\">April 7, 2016</a></blockquote>\n",
       "<script async src=\"//platform.twitter.com/widgets.js\" charset=\"utf-8\"></script>"
      ],
      "text/plain": [
       "<IPython.core.display.HTML object>"
      ]
     },
     "metadata": {},
     "output_type": "display_data"
    },
    {
     "data": {
      "text/html": [
       "<blockquote class=\"twitter-tweet\"><p lang=\"en\" dir=\"ltr\">Hillary Clinton did not say Bernie Sanders was &#39;not qualified.&#39; But he has now - absurdly - said it about her. This is a new low.</p>&mdash; Brian Fallon (@brianefallon) <a href=\"https://twitter.com/brianefallon/status/717893134064230400\">April 7, 2016</a></blockquote>\n",
       "<script async src=\"//platform.twitter.com/widgets.js\" charset=\"utf-8\"></script>"
      ],
      "text/plain": [
       "<IPython.core.display.HTML object>"
      ]
     },
     "metadata": {},
     "output_type": "display_data"
    },
    {
     "data": {
      "text/html": [
       "<blockquote class=\"twitter-tweet\"><p lang=\"en\" dir=\"ltr\">.<a href=\"https://twitter.com/HillaryClinton\">@HillaryClinton</a> great response to Sanders attack: &quot;I&#39;d take Bernie over Donald Trump or Ted Cruz any day so let&#39;s keep our eye on the ball&quot;</p>&mdash; Paul Begala (@PaulBegala) <a href=\"https://twitter.com/PaulBegala/status/718069853731602432\">April 7, 2016</a></blockquote>\n",
       "<script async src=\"//platform.twitter.com/widgets.js\" charset=\"utf-8\"></script>"
      ],
      "text/plain": [
       "<IPython.core.display.HTML object>"
      ]
     },
     "metadata": {},
     "output_type": "display_data"
    },
    {
     "data": {
      "text/html": [
       "<blockquote class=\"twitter-tweet\"><p lang=\"en\" dir=\"ltr\">Both candidates are qualified. But at The Nation we believe Bernie Sanders is more qualified. Here&#39;s why: <a href=\"https://t.co/ELDx1BesnD\">https://t.co/ELDx1BesnD</a></p>&mdash; Katrina vandenHeuvel (@KatrinaNation) <a href=\"https://twitter.com/KatrinaNation/status/718117182828318720\">April 7, 2016</a></blockquote>\n",
       "<script async src=\"//platform.twitter.com/widgets.js\" charset=\"utf-8\"></script>"
      ],
      "text/plain": [
       "<IPython.core.display.HTML object>"
      ]
     },
     "metadata": {},
     "output_type": "display_data"
    },
    {
     "data": {
      "text/html": [
       "<blockquote class=\"twitter-tweet\"><p lang=\"en\" dir=\"ltr\">&quot;Clinton is one of the brightest people in Congress &amp; she would be an excellent choice” —Sen. Sanders on Hillary as Sec. of State, Nov. 2008</p>&mdash; Hillary Clinton (@HillaryClinton) <a href=\"https://twitter.com/HillaryClinton/status/718127026549424128\">April 7, 2016</a></blockquote>\n",
       "<script async src=\"//platform.twitter.com/widgets.js\" charset=\"utf-8\"></script>"
      ],
      "text/plain": [
       "<IPython.core.display.HTML object>"
      ]
     },
     "metadata": {},
     "output_type": "display_data"
    },
    {
     "data": {
      "text/html": [
       "<blockquote class=\"twitter-tweet\"><p lang=\"en\" dir=\"ltr\">Mrs. Sanders says Bernie Sanders did not actually mean Hillary Clinton was unqualified to be president, despite saying so. <a href=\"https://twitter.com/hashtag/maddow?src=hash\">#maddow</a></p>&mdash; Joy Reid (@JoyAnnReid) <a href=\"https://twitter.com/JoyAnnReid/status/718255096484732928\">April 8, 2016</a></blockquote>\n",
       "<script async src=\"//platform.twitter.com/widgets.js\" charset=\"utf-8\"></script>"
      ],
      "text/plain": [
       "<IPython.core.display.HTML object>"
      ]
     },
     "metadata": {},
     "output_type": "display_data"
    },
    {
     "data": {
      "text/html": [
       "<blockquote class=\"twitter-tweet\"><p lang=\"en\" dir=\"ltr\">media corruption!! Jane sanders isn&#39;t cleaning up anything. <a href=\"https://twitter.com/SenSanders\">@SenSanders</a> had a right to defend himself <a href=\"https://twitter.com/hashtag/FeelTheBern?src=hash\">#FeelTheBern</a> <a href=\"https://t.co/P7J7XbuoeZ\">pic.twitter.com/P7J7XbuoeZ</a></p>&mdash; Jen S. (@Psychologygirl7) <a href=\"https://twitter.com/Psychologygirl7/status/718263388174950401\">April 8, 2016</a></blockquote>\n",
       "<script async src=\"//platform.twitter.com/widgets.js\" charset=\"utf-8\"></script>"
      ],
      "text/plain": [
       "<IPython.core.display.HTML object>"
      ]
     },
     "metadata": {},
     "output_type": "display_data"
    },
    {
     "data": {
      "text/html": [
       "<blockquote class=\"twitter-tweet\"><p lang=\"en\" dir=\"ltr\">Current poll on MSNBC-91% of ppl think Bernie Sanders is more qualified to be President. <a href=\"https://twitter.com/hashtag/FeelTheBern?src=hash\">#FeelTheBern</a> <a href=\"https://t.co/9ekNVu1bF2\">pic.twitter.com/9ekNVu1bF2</a></p>&mdash; Erin Twardochleb (@AirOpera) <a href=\"https://twitter.com/AirOpera/status/718248089019133952\">April 8, 2016</a></blockquote>\n",
       "<script async src=\"//platform.twitter.com/widgets.js\" charset=\"utf-8\"></script>"
      ],
      "text/plain": [
       "<IPython.core.display.HTML object>"
      ]
     },
     "metadata": {},
     "output_type": "display_data"
    },
    {
     "data": {
      "text/html": [
       "<blockquote class=\"twitter-tweet\"><p lang=\"en\" dir=\"ltr\">STD Awareness Website Twists Bernie Sanders Slogan To Promote Sexual Health<a href=\"https://t.co/RljZeWQZ6f\">https://t.co/RljZeWQZ6f</a> <a href=\"https://t.co/ehlFQS4nNx\">pic.twitter.com/ehlFQS4nNx</a></p>&mdash; Biennewe (@BienneweRks) <a href=\"https://twitter.com/BienneweRks/status/717644368413196289\">April 6, 2016</a></blockquote>\n",
       "<script async src=\"//platform.twitter.com/widgets.js\" charset=\"utf-8\"></script>"
      ],
      "text/plain": [
       "<IPython.core.display.HTML object>"
      ]
     },
     "metadata": {},
     "output_type": "display_data"
    },
    {
     "data": {
      "text/html": [
       "<blockquote class=\"twitter-tweet\"><p lang=\"en\" dir=\"ltr\">Bernie Sanders will meet with Pope Francis at the Vatican next Friday <a href=\"https://t.co/184JJ4TjBV\">https://t.co/184JJ4TjBV</a> <a href=\"https://t.co/wkzCqpK3vs\">pic.twitter.com/wkzCqpK3vs</a></p>&mdash; The New York Times (@nytimes) <a href=\"https://twitter.com/nytimes/status/718426685130022912\">April 8, 2016</a></blockquote>\n",
       "<script async src=\"//platform.twitter.com/widgets.js\" charset=\"utf-8\"></script>"
      ],
      "text/plain": [
       "<IPython.core.display.HTML object>"
      ]
     },
     "metadata": {},
     "output_type": "display_data"
    }
   ],
   "source": [
    "for t in top_tweets:\n",
    "    url = 'https://api.twitter.com/1/statuses/oembed.json?id='+t['tweetID']\n",
    "    try:\n",
    "        response = urllib2.urlopen(url)\n",
    "    except:\n",
    "        print \"page doesn't exist: \"+str(url)\n",
    "        continue\n",
    "    tweet = json.loads((response.read()))\n",
    "    display(HTML(tweet['html']))"
   ]
  },
  {
   "cell_type": "markdown",
   "metadata": {},
   "source": [
    "# Mode"
   ]
  },
  {
   "cell_type": "code",
   "execution_count": null,
   "metadata": {
    "collapsed": true
   },
   "outputs": [],
   "source": [
    "from scipy.stats import mode"
   ]
  },
  {
   "cell_type": "code",
   "execution_count": null,
   "metadata": {
    "collapsed": false
   },
   "outputs": [],
   "source": [
    "modes = []\n",
    "tweetids = []\n",
    "tweets = 0\n",
    "min_tweets = 100\n",
    "prev_time = data[0,0]\n",
    "R = 10*60\n",
    "\n",
    "for row in data:\n",
    "    tweets += 1\n",
    "    if not row[1] == 0:\n",
    "        tweetids.append(row[2])\n",
    "    time_diff = float(row[0]) - prev_time\n",
    "    if time_diff > R:\n",
    "#         if int(time_diff / R) > 1:\n",
    "#             modes.append([row[0]-(time_diff*0.5), None, None, None])\n",
    "        if time_diff > R and tweets > min_tweets:\n",
    "            m = mode(tweetids)\n",
    "            modes.append([row[0]-(R*0.5), m[0][0], m[1][0], m[1][0]/len(tweetids), len(tweetids)])\n",
    "        tweetids = []\n",
    "        prev_time = float(row[0])\n",
    "        tweets = 0"
   ]
  },
  {
   "cell_type": "code",
   "execution_count": null,
   "metadata": {
    "collapsed": false
   },
   "outputs": [],
   "source": [
    "np.array(modes).shape"
   ]
  },
  {
   "cell_type": "code",
   "execution_count": null,
   "metadata": {
    "collapsed": true
   },
   "outputs": [],
   "source": [
    "modes = np.array(modes)"
   ]
  },
  {
   "cell_type": "code",
   "execution_count": null,
   "metadata": {
    "collapsed": true
   },
   "outputs": [],
   "source": [
    "def diff_smooth(x, n):\n",
    "    a = np.zeros_like(x)\n",
    "    for i in range(len(x)-n):\n",
    "        i += n\n",
    "        a[i] = np.mean(x[i:i+n], axis=0) - np.mean(trace[i-n:i,1], axis=0)\n",
    "    return a"
   ]
  },
  {
   "cell_type": "code",
   "execution_count": null,
   "metadata": {
    "collapsed": false
   },
   "outputs": [],
   "source": [
    "trace = data_downsampled\n",
    "\n",
    "der_smooth = diff_smooth(trace, 12)\n",
    "der_smooth_threshold = 0.2"
   ]
  },
  {
   "cell_type": "code",
   "execution_count": null,
   "metadata": {
    "collapsed": false
   },
   "outputs": [],
   "source": [
    "# from scipy.signal import savgol_filter\n",
    "# tps_filtered = modes[:,4] - savgol_filter(modes[:,4], 101, 5)\n",
    "# tps_threshold = np.std(tps_filtered)*3"
   ]
  },
  {
   "cell_type": "code",
   "execution_count": null,
   "metadata": {
    "collapsed": true
   },
   "outputs": [],
   "source": [
    "# tweets per second filtered\n",
    "import scipy.fftpack\n",
    "w = scipy.fftpack.rfft(modes[:,4])\n",
    "w[:10] = 0\n",
    "tps_filtered = scipy.fftpack.irfft(w)\n",
    "tps_threshold = np.std(tps_filtered)*3"
   ]
  },
  {
   "cell_type": "code",
   "execution_count": null,
   "metadata": {
    "collapsed": true
   },
   "outputs": [],
   "source": [
    "tps_filtered = modes[:,4]\n",
    "tps_threshold = np.percentile(tps_filtered, 95)"
   ]
  },
  {
   "cell_type": "code",
   "execution_count": null,
   "metadata": {
    "collapsed": true
   },
   "outputs": [],
   "source": [
    "# tweets per second filtered peak detection\n",
    "peaks = []\n",
    "peaking = False\n",
    "start = None\n",
    "threshold = tps_threshold\n",
    "for i,x in enumerate(tps_filtered):\n",
    "    if not peaking:\n",
    "        if x > threshold:\n",
    "            start = modes[i,0]\n",
    "            peaking = True\n",
    "    elif peaking:\n",
    "        if x < threshold:\n",
    "            end = modes[i,0]\n",
    "            peaks.append([start, end])\n",
    "            start = None\n",
    "            peaking = False\n",
    "peaks = np.array(peaks)"
   ]
  },
  {
   "cell_type": "code",
   "execution_count": null,
   "metadata": {
    "collapsed": false
   },
   "outputs": [],
   "source": [
    "# threshold = np.nanstd(modes[:,3]) * 3\n",
    "threshold = 0.4\n",
    "\n",
    "plt.figure(figsize=(14,10))\n",
    "plt.subplot(511)\n",
    "plt.title('Sentiment')\n",
    "plt.plot(data_downsampled[:,0], data_downsampled[:,1])\n",
    "plt.ylim([-0.5, 0.5])\n",
    "plt.xlim([data[0,0], data[-1,0]])\n",
    "plt.subplot(512)\n",
    "plt.title('Sentiment derivative')\n",
    "plt.plot(der_smooth[:,0], der_smooth[:,1])\n",
    "plt.axhline(y=der_smooth_threshold, c='r')\n",
    "plt.xlim([data[0,0], data[-1,0]])\n",
    "plt.subplot(513)\n",
    "plt.title('fraction of tweets which are retweets of the same tweet')\n",
    "plt.plot(modes[:,0], modes[:,3])\n",
    "plt.ylim([0,1])\n",
    "plt.xlim([data[0,0], data[-1,0]])\n",
    "plt.axhline(y=threshold, c='r')\n",
    "plt.subplot(514)\n",
    "ax = plt.subplot(514)\n",
    "plt.title('tweets per minute')\n",
    "plt.plot(modes[:,0], tps_filtered/10)\n",
    "plt.xlim([data[0,0], data[-1,0]])\n",
    "plt.axhline(y=tps_threshold/10, c='r')\n",
    "# plt.axhline(y=np.percentile(tps_filtered/10, 95), c='green')\n",
    "ax.spines['top'].set_visible(False)\n",
    "ax.spines['bottom'].set_visible(False)\n",
    "ax.spines['right'].set_visible(False)\n",
    "for p in peaks:\n",
    "    plt.axvline(x=np.mean(p), ymin=0.9, ymax=1, c='r')\n",
    "\n",
    "plt.tight_layout()\n",
    "plt.show()"
   ]
  },
  {
   "cell_type": "markdown",
   "metadata": {},
   "source": [
    "<hr>"
   ]
  },
  {
   "cell_type": "code",
   "execution_count": null,
   "metadata": {
    "collapsed": true
   },
   "outputs": [],
   "source": [
    "# # peaks in modes\n",
    "# peaking = False\n",
    "# for m in modes:\n",
    "#     if not peaking:\n",
    "#         if m[3] > threshold:\n",
    "#             peaking = True\n",
    "#             for y in m:\n",
    "#                 print ('%f' % y).rstrip('0').rstrip('.')\n",
    "#             print 'https://twitter.com/statuses/'+str(('%f' % m[1]).rstrip('0').rstrip('.'))\n",
    "#             print\n",
    "#     elif peaking:\n",
    "#         if m[3] < threshold:\n",
    "#             peaking = False"
   ]
  },
  {
   "cell_type": "markdown",
   "metadata": {},
   "source": [
    "<hr>"
   ]
  },
  {
   "cell_type": "code",
   "execution_count": null,
   "metadata": {
    "collapsed": false
   },
   "outputs": [],
   "source": [
    "# # sentiment derivative peak detection\n",
    "# peaks = []\n",
    "# peaking = False\n",
    "# start = None\n",
    "# threshold = der_smooth_threshold\n",
    "# for x in der_smooth:\n",
    "#     if not peaking:\n",
    "#         if x[1] > threshold:\n",
    "#             start = x[0]\n",
    "#             peaking = True\n",
    "#     elif peaking:\n",
    "#         if x[1] < threshold:\n",
    "#             end = x[0]\n",
    "#             peaks.append([start, end])\n",
    "#             start = None\n",
    "#             peaking = False\n",
    "# peaks = np.array(peaks)"
   ]
  },
  {
   "cell_type": "code",
   "execution_count": null,
   "metadata": {
    "collapsed": false
   },
   "outputs": [],
   "source": [
    "len(peaks)"
   ]
  },
  {
   "cell_type": "markdown",
   "metadata": {},
   "source": [
    "<hr>"
   ]
  },
  {
   "cell_type": "code",
   "execution_count": null,
   "metadata": {
    "collapsed": false
   },
   "outputs": [],
   "source": [
    "i = 0\n",
    "for p in peaks:\n",
    "    print i\n",
    "    b = np.array([d for d in data if not d[1] == 0 and d[0] > p[0] - 60*5 and d[0] < p[1] + 60*5])\n",
    "    x = Counter(b[:,1]).most_common()[:5]\n",
    "    for y in x:\n",
    "        print y\n",
    "    c = np.array([y for y in b if y[1] == x[0][0]])\n",
    "    common_tweets = Counter(c[:,2]).most_common()[:5]\n",
    "    for x in common_tweets:\n",
    "        print x\n",
    "        print 'https://twitter.com/statuses/'+str(('%f' % x[0]).rstrip('0').rstrip('.'))\n",
    "    print\n",
    "    i += 1"
   ]
  },
  {
   "cell_type": "code",
   "execution_count": null,
   "metadata": {
    "collapsed": true
   },
   "outputs": [],
   "source": [
    "i = 0"
   ]
  },
  {
   "cell_type": "code",
   "execution_count": null,
   "metadata": {
    "collapsed": true
   },
   "outputs": [],
   "source": [
    "b = np.array([d for d in data if not d[1] == 0 and d[0] > p[0] - 60*5 and d[0] < p[1] + 60*5])"
   ]
  },
  {
   "cell_type": "code",
   "execution_count": null,
   "metadata": {
    "collapsed": false
   },
   "outputs": [],
   "source": [
    "len(b)"
   ]
  },
  {
   "cell_type": "code",
   "execution_count": null,
   "metadata": {
    "collapsed": true
   },
   "outputs": [],
   "source": [
    "from collections import Counter"
   ]
  },
  {
   "cell_type": "code",
   "execution_count": null,
   "metadata": {
    "collapsed": false
   },
   "outputs": [],
   "source": [
    "count = Counter(b[:,1])"
   ]
  },
  {
   "cell_type": "code",
   "execution_count": null,
   "metadata": {
    "collapsed": false
   },
   "outputs": [],
   "source": [
    "x = count.most_common()[:5]\n",
    "for y in x:\n",
    "#     print 'https://twitter.com/statuses/'+str(('%f' % y[0]).rstrip('0').rstrip('.'))\n",
    "    print y"
   ]
  },
  {
   "cell_type": "code",
   "execution_count": null,
   "metadata": {
    "collapsed": false
   },
   "outputs": [],
   "source": [
    "c = np.array([y for y in b if y[1] == x[0][0]])"
   ]
  },
  {
   "cell_type": "code",
   "execution_count": null,
   "metadata": {
    "collapsed": false
   },
   "outputs": [],
   "source": [
    "c.shape"
   ]
  },
  {
   "cell_type": "code",
   "execution_count": null,
   "metadata": {
    "collapsed": false
   },
   "outputs": [],
   "source": [
    "common_tweets = Counter(c[:,2]).most_common()[:5]\n",
    "for x in common_tweets:\n",
    "    print x\n",
    "    print 'https://twitter.com/statuses/'+str(('%f' % x[0]).rstrip('0').rstrip('.'))"
   ]
  },
  {
   "cell_type": "markdown",
   "metadata": {},
   "source": [
    "<hr>"
   ]
  },
  {
   "cell_type": "code",
   "execution_count": null,
   "metadata": {
    "collapsed": true
   },
   "outputs": [],
   "source": [
    "a = np.array([m for m in modes if m[4]/10 > 50])"
   ]
  },
  {
   "cell_type": "code",
   "execution_count": null,
   "metadata": {
    "collapsed": false
   },
   "outputs": [],
   "source": [
    "len(a)"
   ]
  },
  {
   "cell_type": "code",
   "execution_count": null,
   "metadata": {
    "collapsed": false
   },
   "outputs": [],
   "source": [
    "for x in a[-5:]:\n",
    "    print ('%f' % x[1]).rstrip('0').rstrip('.')\n",
    "    print 'https://twitter.com/statuses/'+str(('%f' % x[1]).rstrip('0').rstrip('.'))"
   ]
  }
 ],
 "metadata": {
  "kernelspec": {
   "display_name": "Python 2",
   "language": "python",
   "name": "python2"
  },
  "language_info": {
   "codemirror_mode": {
    "name": "ipython",
    "version": 2
   },
   "file_extension": ".py",
   "mimetype": "text/x-python",
   "name": "python",
   "nbconvert_exporter": "python",
   "pygments_lexer": "ipython2",
   "version": "2.7.11"
  }
 },
 "nbformat": 4,
 "nbformat_minor": 0
}
