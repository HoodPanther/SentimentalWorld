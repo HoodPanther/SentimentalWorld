{
 "cells": [
  {
   "cell_type": "code",
   "execution_count": 595,
   "metadata": {
    "collapsed": true
   },
   "outputs": [],
   "source": [
    "import numpy as np\n",
    "import matplotlib.pyplot as plt\n",
    "%matplotlib inline\n",
    "from __future__ import division"
   ]
  },
  {
   "cell_type": "code",
   "execution_count": 701,
   "metadata": {
    "collapsed": true
   },
   "outputs": [],
   "source": [
    "data_downsampled = np.genfromtxt('data_clinton_downsampled.csv', delimiter=',')"
   ]
  },
  {
   "cell_type": "code",
   "execution_count": 702,
   "metadata": {
    "collapsed": false
   },
   "outputs": [
    {
     "data": {
      "text/plain": [
       "(1587, 3)"
      ]
     },
     "execution_count": 702,
     "metadata": {},
     "output_type": "execute_result"
    }
   ],
   "source": [
    "data_downsampled.shape"
   ]
  },
  {
   "cell_type": "code",
   "execution_count": 703,
   "metadata": {
    "collapsed": false
   },
   "outputs": [
    {
     "data": {
      "text/plain": [
       "[<matplotlib.lines.Line2D at 0x1183e55d0>]"
      ]
     },
     "execution_count": 703,
     "metadata": {},
     "output_type": "execute_result"
    },
    {
     "data": {
      "image/png": "[encoded data removed]",
      "text/plain": [
       "<matplotlib.figure.Figure at 0x1182d0d10>"
      ]
     },
     "metadata": {},
     "output_type": "display_data"
    }
   ],
   "source": [
    "plt.plot(data_downsampled[:,0], data_downsampled[:,1])"
   ]
  },
  {
   "cell_type": "code",
   "execution_count": 704,
   "metadata": {
    "collapsed": false
   },
   "outputs": [],
   "source": [
    "%%capture\n",
    "data = np.genfromtxt('data_clinton_00000.csv', delimiter=',', usecols=(0,1,2), invalid_raise=False, loose=True);"
   ]
  },
  {
   "cell_type": "code",
   "execution_count": 705,
   "metadata": {
    "collapsed": false
   },
   "outputs": [
    {
     "data": {
      "text/plain": [
       "(1075374, 3)"
      ]
     },
     "execution_count": 705,
     "metadata": {},
     "output_type": "execute_result"
    }
   ],
   "source": [
    "data.shape"
   ]
  },
  {
   "cell_type": "code",
   "execution_count": 706,
   "metadata": {
    "collapsed": false
   },
   "outputs": [
    {
     "data": {
      "text/plain": [
       "array([  1.45945647e+09,   0.00000000e+00,   7.15635986e+17])"
      ]
     },
     "execution_count": 706,
     "metadata": {},
     "output_type": "execute_result"
    }
   ],
   "source": [
    "data[0]"
   ]
  },
  {
   "cell_type": "code",
   "execution_count": 707,
   "metadata": {
    "collapsed": false
   },
   "outputs": [],
   "source": [
    "# data = np.array([d for d in data if not d[1] == 0])\n",
    "# print data.shape                 "
   ]
  },
  {
   "cell_type": "markdown",
   "metadata": {},
   "source": [
    "# Mode"
   ]
  },
  {
   "cell_type": "code",
   "execution_count": 708,
   "metadata": {
    "collapsed": true
   },
   "outputs": [],
   "source": [
    "from scipy.stats import mode"
   ]
  },
  {
   "cell_type": "code",
   "execution_count": 709,
   "metadata": {
    "collapsed": false
   },
   "outputs": [],
   "source": [
    "modes = []\n",
    "tweetids = []\n",
    "tweets = 0\n",
    "min_tweets = 100\n",
    "prev_time = data[0,0]\n",
    "R = 10*60\n",
    "\n",
    "for row in data:\n",
    "    tweets += 1\n",
    "    if not row[1] == 0:\n",
    "        tweetids.append(row[2])\n",
    "    time_diff = float(row[0]) - prev_time\n",
    "    if time_diff > R:\n",
    "#         if int(time_diff / R) > 1:\n",
    "#             modes.append([row[0]-(time_diff*0.5), None, None, None])\n",
    "        if time_diff > R and tweets > min_tweets:\n",
    "            m = mode(tweetids)\n",
    "            modes.append([row[0]-(R*0.5), m[0][0], m[1][0], m[1][0]/len(tweetids), len(tweetids)])\n",
    "        tweetids = []\n",
    "        prev_time = float(row[0])\n",
    "        tweets = 0"
   ]
  },
  {
   "cell_type": "code",
   "execution_count": 710,
   "metadata": {
    "collapsed": false
   },
   "outputs": [
    {
     "data": {
      "text/plain": [
       "(1057, 5)"
      ]
     },
     "execution_count": 710,
     "metadata": {},
     "output_type": "execute_result"
    }
   ],
   "source": [
    "np.array(modes).shape"
   ]
  },
  {
   "cell_type": "code",
   "execution_count": 711,
   "metadata": {
    "collapsed": true
   },
   "outputs": [],
   "source": [
    "modes = np.array(modes)"
   ]
  },
  {
   "cell_type": "code",
   "execution_count": 712,
   "metadata": {
    "collapsed": true
   },
   "outputs": [],
   "source": [
    "def diff_smooth(x, n):\n",
    "    a = np.zeros_like(x)\n",
    "    for i in range(len(x)-n):\n",
    "        i += n\n",
    "        a[i] = np.mean(x[i:i+n], axis=0) - np.mean(trace[i-n:i,1], axis=0)\n",
    "    return a"
   ]
  },
  {
   "cell_type": "code",
   "execution_count": 713,
   "metadata": {
    "collapsed": false
   },
   "outputs": [],
   "source": [
    "trace = data_downsampled\n",
    "\n",
    "der_smooth = diff_smooth(trace, 12)\n",
    "der_smooth_threshold = 0.2"
   ]
  },
  {
   "cell_type": "code",
   "execution_count": 714,
   "metadata": {
    "collapsed": false
   },
   "outputs": [],
   "source": [
    "# from scipy.signal import savgol_filter\n",
    "# tps_filtered = modes[:,4] - savgol_filter(modes[:,4], 101, 5)\n",
    "# tps_threshold = np.std(tps_filtered)*3"
   ]
  },
  {
   "cell_type": "code",
   "execution_count": 715,
   "metadata": {
    "collapsed": true
   },
   "outputs": [],
   "source": [
    "# tweets per second filtered\n",
    "import scipy.fftpack\n",
    "w = scipy.fftpack.rfft(modes[:,4])\n",
    "w[:10] = 0\n",
    "tps_filtered = scipy.fftpack.irfft(w)\n",
    "tps_threshold = np.std(tps_filtered)*3"
   ]
  },
  {
   "cell_type": "code",
   "execution_count": 716,
   "metadata": {
    "collapsed": true
   },
   "outputs": [],
   "source": [
    "tps_filtered = modes[:,4]\n",
    "tps_threshold = np.percentile(tps_filtered, 95)"
   ]
  },
  {
   "cell_type": "code",
   "execution_count": 717,
   "metadata": {
    "collapsed": true
   },
   "outputs": [],
   "source": [
    "# tweets per second filtered peak detection\n",
    "peaks = []\n",
    "peaking = False\n",
    "start = None\n",
    "threshold = tps_threshold\n",
    "for i,x in enumerate(tps_filtered):\n",
    "    if not peaking:\n",
    "        if x > threshold:\n",
    "            start = modes[i,0]\n",
    "            peaking = True\n",
    "    elif peaking:\n",
    "        if x < threshold:\n",
    "            end = modes[i,0]\n",
    "            peaks.append([start, end])\n",
    "            start = None\n",
    "            peaking = False\n",
    "peaks = np.array(peaks)"
   ]
  },
  {
   "cell_type": "code",
   "execution_count": 718,
   "metadata": {
    "collapsed": false
   },
   "outputs": [
    {
     "data": {
      "image/png": "[encoded data removed]",
      "text/plain": [
       "<matplotlib.figure.Figure at 0x11900edd0>"
      ]
     },
     "metadata": {},
     "output_type": "display_data"
    }
   ],
   "source": [
    "# threshold = np.nanstd(modes[:,3]) * 3\n",
    "threshold = 0.4\n",
    "\n",
    "plt.figure(figsize=(14,10))\n",
    "plt.subplot(511)\n",
    "plt.title('Sentiment')\n",
    "plt.plot(data_downsampled[:,0], data_downsampled[:,1])\n",
    "plt.ylim([-0.5, 0.5])\n",
    "plt.xlim([data[0,0], data[-1,0]])\n",
    "plt.subplot(512)\n",
    "plt.title('Sentiment derivative')\n",
    "plt.plot(der_smooth[:,0], der_smooth[:,1])\n",
    "plt.axhline(y=der_smooth_threshold, c='r')\n",
    "plt.xlim([data[0,0], data[-1,0]])\n",
    "plt.subplot(513)\n",
    "plt.title('fraction of tweets which are retweets of the same tweet')\n",
    "plt.plot(modes[:,0], modes[:,3])\n",
    "plt.ylim([0,1])\n",
    "plt.xlim([data[0,0], data[-1,0]])\n",
    "plt.axhline(y=threshold, c='r')\n",
    "plt.subplot(514)\n",
    "ax = plt.subplot(514)\n",
    "plt.title('tweets per minute')\n",
    "plt.plot(modes[:,0], tps_filtered/10)\n",
    "plt.xlim([data[0,0], data[-1,0]])\n",
    "plt.axhline(y=tps_threshold/10, c='r')\n",
    "# plt.axhline(y=np.percentile(tps_filtered/10, 95), c='green')\n",
    "ax.spines['top'].set_visible(False)\n",
    "ax.spines['bottom'].set_visible(False)\n",
    "ax.spines['right'].set_visible(False)\n",
    "for p in peaks:\n",
    "    plt.axvline(x=np.mean(p), ymin=0.9, ymax=1, c='r')\n",
    "\n",
    "plt.tight_layout()\n",
    "plt.show()"
   ]
  },
  {
   "cell_type": "markdown",
   "metadata": {},
   "source": [
    "<hr>"
   ]
  },
  {
   "cell_type": "code",
   "execution_count": 614,
   "metadata": {
    "collapsed": true
   },
   "outputs": [],
   "source": [
    "# # peaks in modes\n",
    "# peaking = False\n",
    "# for m in modes:\n",
    "#     if not peaking:\n",
    "#         if m[3] > threshold:\n",
    "#             peaking = True\n",
    "#             for y in m:\n",
    "#                 print ('%f' % y).rstrip('0').rstrip('.')\n",
    "#             print 'https://twitter.com/statuses/'+str(('%f' % m[1]).rstrip('0').rstrip('.'))\n",
    "#             print\n",
    "#     elif peaking:\n",
    "#         if m[3] < threshold:\n",
    "#             peaking = False"
   ]
  },
  {
   "cell_type": "markdown",
   "metadata": {},
   "source": [
    "<hr>"
   ]
  },
  {
   "cell_type": "code",
   "execution_count": 615,
   "metadata": {
    "collapsed": false
   },
   "outputs": [],
   "source": [
    "# # sentiment derivative peak detection\n",
    "# peaks = []\n",
    "# peaking = False\n",
    "# start = None\n",
    "# threshold = der_smooth_threshold\n",
    "# for x in der_smooth:\n",
    "#     if not peaking:\n",
    "#         if x[1] > threshold:\n",
    "#             start = x[0]\n",
    "#             peaking = True\n",
    "#     elif peaking:\n",
    "#         if x[1] < threshold:\n",
    "#             end = x[0]\n",
    "#             peaks.append([start, end])\n",
    "#             start = None\n",
    "#             peaking = False\n",
    "# peaks = np.array(peaks)"
   ]
  },
  {
   "cell_type": "code",
   "execution_count": 719,
   "metadata": {
    "collapsed": false
   },
   "outputs": [
    {
     "data": {
      "text/plain": [
       "5"
      ]
     },
     "execution_count": 719,
     "metadata": {},
     "output_type": "execute_result"
    }
   ],
   "source": [
    "len(peaks)"
   ]
  },
  {
   "cell_type": "markdown",
   "metadata": {},
   "source": [
    "<hr>"
   ]
  },
  {
   "cell_type": "code",
   "execution_count": 720,
   "metadata": {
    "collapsed": false
   },
   "outputs": [
    {
     "name": "stdout",
     "output_type": "stream",
     "text": [
      "0\n",
      "(0.44040000000000001, 1921)\n",
      "(0.31819999999999998, 159)\n",
      "(-0.58589999999999998, 85)\n",
      "(0.73509999999999998, 73)\n",
      "(0.20230000000000001, 52)\n",
      "(7.1629404503987405e+17, 1878)\n",
      "https://twitter.com/statuses/716294045039874048\n",
      "(7.1628659055805645e+17, 10)\n",
      "https://twitter.com/statuses/716286590558056448\n",
      "(7.1629816178699059e+17, 6)\n",
      "https://twitter.com/statuses/716298161786990592\n",
      "(7.1625694636664832e+17, 4)\n",
      "https://twitter.com/statuses/716256946366648320\n",
      "(7.1629380942083277e+17, 2)\n",
      "https://twitter.com/statuses/716293809420832768\n",
      "\n",
      "1\n",
      "(-0.55740000000000001, 2503)\n",
      "(0.55740000000000001, 63)\n",
      "(0.82250000000000001, 25)\n",
      "(-0.29599999999999999, 23)\n",
      "(-0.24110000000000001, 14)\n",
      "(7.1764525196437914e+17, 2489)\n",
      "https://twitter.com/statuses/717645251964379136\n",
      "(7.176390704663593e+17, 5)\n",
      "https://twitter.com/statuses/717639070466359296\n",
      "(7.1764723654972211e+17, 1)\n",
      "https://twitter.com/statuses/717647236549722112\n",
      "(7.1764710288150528e+17, 1)\n",
      "https://twitter.com/statuses/717647102881505280\n",
      "(7.1764740215762125e+17, 1)\n",
      "https://twitter.com/statuses/717647402157621248\n",
      "\n",
      "2\n",
      "(-0.5423, 5452)\n",
      "(0.0258, 4962)\n",
      "(-0.2263, 4497)\n",
      "(-0.20230000000000001, 4295)\n",
      "(0.31819999999999998, 2496)\n",
      "(7.1822506118704333e+17, 838)\n",
      "https://twitter.com/statuses/718225061187043328\n",
      "(7.1822400702428365e+17, 421)\n",
      "https://twitter.com/statuses/718224007024283648\n",
      "(7.1822562181858509e+17, 347)\n",
      "https://twitter.com/statuses/718225621818585088\n",
      "(7.1821265942283878e+17, 247)\n",
      "https://twitter.com/statuses/718212659422838784\n",
      "(7.1816746330986906e+17, 243)\n",
      "https://twitter.com/statuses/718167463309869056\n",
      "\n",
      "3\n",
      "(-0.29599999999999999, 3221)\n",
      "(0.31819999999999998, 193)\n",
      "(-0.84809999999999997, 155)\n",
      "(-0.40189999999999998, 154)\n",
      "(-0.20230000000000001, 143)\n",
      "(7.1826351288418714e+17, 3174)\n",
      "https://twitter.com/statuses/718263512884187136\n",
      "(7.1809046928098099e+17, 6)\n",
      "https://twitter.com/statuses/718090469280980992\n",
      "(7.182919581464576e+17, 4)\n",
      "https://twitter.com/statuses/718291958146457600\n",
      "(7.1824445421420544e+17, 2)\n",
      "https://twitter.com/statuses/718244454214205440\n",
      "(7.1817388663479091e+17, 2)\n",
      "https://twitter.com/statuses/718173886634790912\n",
      "\n",
      "4\n",
      "(-0.29599999999999999, 7963)\n",
      "(0.45879999999999999, 120)\n",
      "(-0.64859999999999995, 78)\n",
      "(0.31819999999999998, 58)\n",
      "(0.077200000000000005, 52)\n",
      "(7.1826351288418714e+17, 7934)\n",
      "https://twitter.com/statuses/718263512884187136\n",
      "(7.1831004274377933e+17, 9)\n",
      "https://twitter.com/statuses/718310042743779328\n",
      "(7.1821391269332992e+17, 2)\n",
      "https://twitter.com/statuses/718213912693329920\n",
      "(7.1831041095756186e+17, 1)\n",
      "https://twitter.com/statuses/718310410957561856\n",
      "(7.1807157483064934e+17, 1)\n",
      "https://twitter.com/statuses/718071574830649344\n",
      "\n"
     ]
    }
   ],
   "source": [
    "i = 0\n",
    "for p in peaks:\n",
    "    print i\n",
    "    b = np.array([d for d in data if not d[1] == 0 and d[0] > p[0] - 60*5 and d[0] < p[1] + 60*5])\n",
    "    x = Counter(b[:,1]).most_common()[:5]\n",
    "    for y in x:\n",
    "        print y\n",
    "    c = np.array([y for y in b if y[1] == x[0][0]])\n",
    "    common_tweets = Counter(c[:,2]).most_common()[:5]\n",
    "    for x in common_tweets:\n",
    "        print x\n",
    "        print 'https://twitter.com/statuses/'+str(('%f' % x[0]).rstrip('0').rstrip('.'))\n",
    "    print\n",
    "    i += 1"
   ]
  },
  {
   "cell_type": "code",
   "execution_count": 617,
   "metadata": {
    "collapsed": true
   },
   "outputs": [],
   "source": [
    "i = 0"
   ]
  },
  {
   "cell_type": "code",
   "execution_count": null,
   "metadata": {
    "collapsed": true
   },
   "outputs": [],
   "source": [
    "b = np.array([d for d in data if not d[1] == 0 and d[0] > p[0] - 60*5 and d[0] < p[1] + 60*5])"
   ]
  },
  {
   "cell_type": "code",
   "execution_count": 619,
   "metadata": {
    "collapsed": false
   },
   "outputs": [
    {
     "data": {
      "text/plain": [
       "22693"
      ]
     },
     "execution_count": 619,
     "metadata": {},
     "output_type": "execute_result"
    }
   ],
   "source": [
    "len(b)"
   ]
  },
  {
   "cell_type": "code",
   "execution_count": 620,
   "metadata": {
    "collapsed": true
   },
   "outputs": [],
   "source": [
    "from collections import Counter"
   ]
  },
  {
   "cell_type": "code",
   "execution_count": 621,
   "metadata": {
    "collapsed": false
   },
   "outputs": [],
   "source": [
    "count = Counter(b[:,1])"
   ]
  },
  {
   "cell_type": "code",
   "execution_count": 622,
   "metadata": {
    "collapsed": false
   },
   "outputs": [
    {
     "name": "stdout",
     "output_type": "stream",
     "text": [
      "(-0.20230000000000001, 837)\n",
      "(0.0258, 669)\n",
      "(-0.2263, 533)\n",
      "(0.44040000000000001, 531)\n",
      "(-0.5423, 463)\n"
     ]
    }
   ],
   "source": [
    "x = count.most_common()[:5]\n",
    "for y in x:\n",
    "#     print 'https://twitter.com/statuses/'+str(('%f' % y[0]).rstrip('0').rstrip('.'))\n",
    "    print y"
   ]
  },
  {
   "cell_type": "code",
   "execution_count": 623,
   "metadata": {
    "collapsed": false
   },
   "outputs": [],
   "source": [
    "c = np.array([y for y in b if y[1] == x[0][0]])"
   ]
  },
  {
   "cell_type": "code",
   "execution_count": 624,
   "metadata": {
    "collapsed": false
   },
   "outputs": [
    {
     "data": {
      "text/plain": [
       "(837, 3)"
      ]
     },
     "execution_count": 624,
     "metadata": {},
     "output_type": "execute_result"
    }
   ],
   "source": [
    "c.shape"
   ]
  },
  {
   "cell_type": "code",
   "execution_count": 625,
   "metadata": {
    "collapsed": false
   },
   "outputs": [
    {
     "name": "stdout",
     "output_type": "stream",
     "text": [
      "(7.1817875961925222e+17, 81)\n",
      "https://twitter.com/statuses/718178759619252224\n",
      "(7.1819162378031104e+17, 60)\n",
      "https://twitter.com/statuses/718191623780311040\n",
      "(7.1818000156524954e+17, 53)\n",
      "https://twitter.com/statuses/718180001565249536\n",
      "(7.181884961465344e+17, 43)\n",
      "https://twitter.com/statuses/718188496146534400\n",
      "(7.1817597749533901e+17, 32)\n",
      "https://twitter.com/statuses/718175977495339008\n"
     ]
    }
   ],
   "source": [
    "common_tweets = Counter(c[:,2]).most_common()[:5]\n",
    "for x in common_tweets:\n",
    "    print x\n",
    "    print 'https://twitter.com/statuses/'+str(('%f' % x[0]).rstrip('0').rstrip('.'))"
   ]
  },
  {
   "cell_type": "markdown",
   "metadata": {},
   "source": [
    "<hr>"
   ]
  },
  {
   "cell_type": "code",
   "execution_count": 626,
   "metadata": {
    "collapsed": true
   },
   "outputs": [],
   "source": [
    "a = np.array([m for m in modes if m[4]/10 > 50])"
   ]
  },
  {
   "cell_type": "code",
   "execution_count": 627,
   "metadata": {
    "collapsed": false
   },
   "outputs": [
    {
     "data": {
      "text/plain": [
       "655"
      ]
     },
     "execution_count": 627,
     "metadata": {},
     "output_type": "execute_result"
    }
   ],
   "source": [
    "len(a)"
   ]
  },
  {
   "cell_type": "code",
   "execution_count": 628,
   "metadata": {
    "collapsed": false
   },
   "outputs": [
    {
     "name": "stdout",
     "output_type": "stream",
     "text": [
      "718322847744192512\n",
      "https://twitter.com/statuses/718322847744192512\n",
      "718322847744192512\n",
      "https://twitter.com/statuses/718322847744192512\n",
      "718333457152286720\n",
      "https://twitter.com/statuses/718333457152286720\n",
      "718336058669330432\n",
      "https://twitter.com/statuses/718336058669330432\n",
      "718336058669330432\n",
      "https://twitter.com/statuses/718336058669330432\n"
     ]
    }
   ],
   "source": [
    "for x in a[-5:]:\n",
    "    print ('%f' % x[1]).rstrip('0').rstrip('.')\n",
    "    print 'https://twitter.com/statuses/'+str(('%f' % x[1]).rstrip('0').rstrip('.'))"
   ]
  }
 ],
 "metadata": {
  "kernelspec": {
   "display_name": "Python 2",
   "language": "python",
   "name": "python2"
  },
  "language_info": {
   "codemirror_mode": {
    "name": "ipython",
    "version": 2
   },
   "file_extension": ".py",
   "mimetype": "text/x-python",
   "name": "python",
   "nbconvert_exporter": "python",
   "pygments_lexer": "ipython2",
   "version": "2.7.11"
  }
 },
 "nbformat": 4,
 "nbformat_minor": 0
}
